{
 "cells": [
  {
   "cell_type": "code",
   "execution_count": 240,
   "metadata": {},
   "outputs": [],
   "source": [
    "import cirq as cirq\n",
    "from cirq.devices import GridQubit\n",
    "from cirq import LineQubit, inverse\n",
    "from cirq import Rx, Ry, Rz, Circuit, CNOT, TwoQubitMatrixGate\n",
    "from cirq.google import ConvertToXmonGates\n",
    "\n",
    "from pymps.fMPS import fMPS\n",
    "from pymps.iMPS import iMPS\n",
    "from pymps.spin import spins, U4, swap, swap_symmetrise, N_body_paulis\n",
    "from pymps.spin import U4s, is_swap_symmetric, ferro, U1, U2, comm\n",
    "from pymps.tensor import H as cT, C as c, haar_unitary, direct_sum, unitary_extension, T\n",
    "from pymps.tensor import rotate_to_hermitian\n",
    "from pymps.ncon import ncon\n",
    "\n",
    "#import sympy as sp\n",
    "from numpy.random import rand, randint, randn\n",
    "from numpy import allclose, pad, real, ones,tensordot, array, block\n",
    "from numpy import pi, arcsin, sqrt, transpose, prod, all, eye, zeros\n",
    "from numpy import concatenate, kron, trace, sum, copy, diag\n",
    "from functools import reduce\n",
    "from numpy.linalg import qr, svd, cholesky, eigvals\n",
    "from scipy.linalg import norm, null_space, expm, schur, polar\n",
    "from scipy.optimize import approx_fprime as jac, minimize, NonlinearConstraint\n",
    "Sx, Sy, Sz = spins(0.5)\n",
    "Sx1, Sy1, Sz1 = N_body_paulis(0.5, 1, 2)\n",
    "Sx2, Sy2, Sz2 = N_body_paulis(0.5, 2, 2)\n",
    "\n",
    "import cirq\n",
    "L = 5\n",
    "D = 2\n",
    "d = 2\n",
    "A = iMPS().load('./A.npy')\n",
    "\n",
    "def svals(A):\n",
    "    q = svd(A)[1]\n",
    "    return q/norm(q)"
   ]
  },
  {
   "cell_type": "code",
   "execution_count": 3,
   "metadata": {
    "scrolled": true
   },
   "outputs": [],
   "source": [
    "def random_unitary_gate(j=0, cse=False, depth=5, p=0.5):\n",
    "    length = 2\n",
    "    qubits = [GridQubit(j+i, 0) for i in range(length)]\n",
    "    circuit = Circuit()\n",
    "    if cse:\n",
    "        '''random rotations and CNOTS \n",
    "           - converges to CUE as depth -> \\infinity\n",
    "           10.1103/PhysRevA.75.062314'''\n",
    "        def U(i):\n",
    "            \"\"\"U: Random SU(2) element\"\"\"\n",
    "            ψ = 2*π*rand()\n",
    "            χ = 2*π*rand()\n",
    "            φ = arcsin(sqrt(rand()))\n",
    "            for g in [Rz(χ+ψ), Ry(2*φ), Rz(χ-ψ)]:\n",
    "                yield g(GridQubit(i+j, 0))\n",
    "        for i in range(depth):\n",
    "            if rand()>p:\n",
    "                # one qubit gate\n",
    "                circuit.append(U(randint(0, length)))\n",
    "            else:\n",
    "                # two qubit gate\n",
    "                if rand()>0.5:\n",
    "                    circuit.append(CNOT(qubits[0], qubits[1]))\n",
    "                else:\n",
    "                    circuit.append(CNOT(qubits[1], qubits[0]))\n",
    "        return circuit\n",
    "    else:\n",
    "        '''draw from SU(4) and implement gate directly'''\n",
    "        U = qr(randn(4, 4)+1j*randn(4, 4))[0]\n",
    "        circuit.append(TwoQubitMatrixGate(U)(qubits[0], qubits[1]))\n",
    "        return circuit\n",
    "\n",
    "def random_fmps(L, d=2, D=2, lr = 'r', cse=False, ti=False):\n",
    "    '''create a random unitary circuit <=> finite mps'''\n",
    "    if ti:\n",
    "        qubits = [GridQubit(i, 0) for i in range(L)]\n",
    "        circuit = Circuit()\n",
    "        U = qr(randn(4, 4)+1j*randn(4, 4))[0]\n",
    "        it = range(L-1) if lr=='r' else reversed(range(L-1))\n",
    "        for i in it:\n",
    "            circuit.append(TwoQubitMatrixGate(U)(qubits[i], qubits[i+1]))\n",
    "        return circuit\n",
    "    else:\n",
    "        gates = [random_unitary_gate(j, cse=cse) for j in range(L)]\n",
    "        \n",
    "        if lr=='l':\n",
    "            return reduce(lambda x, y: x+y, gates)\n",
    "        else:\n",
    "            return reduce(lambda x, y: x+y, reversed(gates))\n",
    "\n",
    "def random_imps(d=2, D=2, lr='r', cse=False):\n",
    "    '''create a random unitary circuit <=> infinite mps'''\n",
    "    circuit = Circuit()\n",
    "    return random_fmps(3, d, D, lr, cse, ti=True)"
   ]
  },
  {
   "cell_type": "code",
   "execution_count": 4,
   "metadata": {},
   "outputs": [
    {
     "name": "stdout",
     "output_type": "stream",
     "text": [
      "Complete\n"
     ]
    }
   ],
   "source": [
    "class fCirqMPS(fMPS):\n",
    "    def __init__(self, data=None, d=None, D=None):\n",
    "        '''initialise an fMPS'''\n",
    "        super(fCirqMPS, self).__init__(data, d, D)\n",
    "    \n",
    "    def __repr__(self):\n",
    "        return self.circuit.to_text_diagram(transpose=True, precision=3)\n",
    "    \n",
    "    def __str__(self):\n",
    "        return self.circuit.to_text_diagram(transpose=True, precision=3)\n",
    "    \n",
    "    def copy(self):\n",
    "        return fCirqMPS(self.data)\n",
    "    \n",
    "    def to_circuit(self, data=None):\n",
    "        if data is None:\n",
    "            data = self.data\n",
    "        d, D = self.d, self.D\n",
    "        self.circuit = Circuit()\n",
    "        self.qbs = [GridQubit(i, 0) for i in range(L+1)]\n",
    "        self.right_canonicalise()\n",
    "        As = [transpose(a, [1, 0, 2]) for a in data]\n",
    "        isometries = [a.reshape(-1, prod(a.shape[1:])) for a in As]\n",
    "        unitaries = [unitary_extension(Q, 4) for Q in isometries]\n",
    "\n",
    "        self.circuit.append([TwoQubitMatrixGate(u)(self.qbs[i], self.qbs[i+1]) for i, u in enumerate(unitaries)])\n",
    "        return self\n",
    "    \n",
    "    def from_circuit(self, circuit=None):\n",
    "        L, d, D = self.L, self.d, self.D\n",
    "        z = array([1, 0])\n",
    "        if circuit is None:\n",
    "            circuit = self.circuit\n",
    "        new_data = []\n",
    "        for i, (moment, shape) in enumerate(zip(circuit, self.create_structure(L, d, D, True))):\n",
    "            U = moment.operations[0].gate._matrix.reshape([d]*4)\n",
    "            if i == 0:\n",
    "                U_ = tensordot(tensordot(U, z, [0, 0]), z, [0, 0]).reshape(*shape)\n",
    "                new_data.append(U_)\n",
    "            elif i==L-1:\n",
    "                U_ = tensordot(tensordot(U, z, [0, 0]), z, [1, 0]).transpose().reshape(*shape)\n",
    "                new_data.append(U_)\n",
    "            else:\n",
    "                U_ = tensordot(U, z, [0, 0]).transpose([1, 0, 2]).reshape(*shape)\n",
    "                new_data.append(U_)\n",
    "        self.data = new_data\n",
    "        return self\n",
    "    \n",
    "def test_fCirqMPS():  \n",
    "    C = fCirqMPS().random(L, d, D).to_circuit();\n",
    "    C_ = C.copy()\n",
    "    assert C.from_circuit() == C_\n",
    "    print('Complete')\n",
    "\n",
    "test_fCirqMPS()"
   ]
  },
  {
   "cell_type": "code",
   "execution_count": 119,
   "metadata": {
    "scrolled": false
   },
   "outputs": [
    {
     "name": "stdout",
     "output_type": "stream",
     "text": [
      "True\n"
     ]
    },
    {
     "ename": "ValueError",
     "evalue": "Not a 4x4 unitary matrix: [[[[ 0.81825693+0.00713262j  0.12083766+0.22578553j]\n   [ 0.12083766+0.22578553j -0.42747031+0.12849969j]]\n\n  [[-0.28787169+0.18821345j  0.7348349 -0.23592573j]\n   [ 0.05926393+0.50136924j -0.16233265+0.0694773j ]]]\n\n\n [[[-0.28787169+0.18821345j  0.05926393+0.50136924j]\n   [ 0.7348349 -0.23592573j -0.16233265+0.0694773j ]]\n\n  [[ 0.1714275 +0.25382773j  0.0292104 +0.28816541j]\n   [ 0.0292104 +0.28816541j  0.7687343 +0.38398771j]]]]",
     "output_type": "error",
     "traceback": [
      "\u001b[0;31m---------------------------------------------------------------------------\u001b[0m",
      "\u001b[0;31mValueError\u001b[0m                                Traceback (most recent call last)",
      "\u001b[0;32m<ipython-input-119-5fba8fb49077>\u001b[0m in \u001b[0;36m<module>\u001b[0;34m()\u001b[0m\n\u001b[1;32m    101\u001b[0m     \u001b[0mprint\u001b[0m\u001b[0;34m(\u001b[0m\u001b[0;34m'Complete'\u001b[0m\u001b[0;34m)\u001b[0m\u001b[0;34m\u001b[0m\u001b[0;34m\u001b[0m\u001b[0m\n\u001b[1;32m    102\u001b[0m \u001b[0;34m\u001b[0m\u001b[0m\n\u001b[0;32m--> 103\u001b[0;31m \u001b[0mtest_iCirqMPS\u001b[0m\u001b[0;34m(\u001b[0m\u001b[0;34m)\u001b[0m\u001b[0;34m\u001b[0m\u001b[0;34m\u001b[0m\u001b[0m\n\u001b[0m",
      "\u001b[0;32m<ipython-input-119-5fba8fb49077>\u001b[0m in \u001b[0;36mtest_iCirqMPS\u001b[0;34m()\u001b[0m\n\u001b[1;32m     98\u001b[0m \u001b[0;34m\u001b[0m\u001b[0m\n\u001b[1;32m     99\u001b[0m     \u001b[0mA\u001b[0m \u001b[0;34m=\u001b[0m \u001b[0miCirqMPS\u001b[0m\u001b[0;34m(\u001b[0m\u001b[0;34m)\u001b[0m\u001b[0;34m.\u001b[0m\u001b[0mfrom_unitaries\u001b[0m\u001b[0;34m(\u001b[0m\u001b[0mUs\u001b[0m\u001b[0;34m)\u001b[0m\u001b[0;34m\u001b[0m\u001b[0;34m\u001b[0m\u001b[0m\n\u001b[0;32m--> 100\u001b[0;31m     \u001b[0mA\u001b[0m\u001b[0;34m.\u001b[0m\u001b[0madd_env_op\u001b[0m\u001b[0;34m(\u001b[0m\u001b[0;34m)\u001b[0m\u001b[0;34m\u001b[0m\u001b[0;34m\u001b[0m\u001b[0m\n\u001b[0m\u001b[1;32m    101\u001b[0m     \u001b[0mprint\u001b[0m\u001b[0;34m(\u001b[0m\u001b[0;34m'Complete'\u001b[0m\u001b[0;34m)\u001b[0m\u001b[0;34m\u001b[0m\u001b[0;34m\u001b[0m\u001b[0m\n\u001b[1;32m    102\u001b[0m \u001b[0;34m\u001b[0m\u001b[0m\n",
      "\u001b[0;32m<ipython-input-119-5fba8fb49077>\u001b[0m in \u001b[0;36madd_env_op\u001b[0;34m(self, v0)\u001b[0m\n\u001b[1;32m     89\u001b[0m             \u001b[0;32mreturn\u001b[0m \u001b[0mnorm\u001b[0m\u001b[0;34m(\u001b[0m\u001b[0mupupup\u001b[0m\u001b[0;34m-\u001b[0m\u001b[0mi\u001b[0m\u001b[0;34m)\u001b[0m\u001b[0;34m\u001b[0m\u001b[0;34m\u001b[0m\u001b[0m\n\u001b[1;32m     90\u001b[0m \u001b[0;34m\u001b[0m\u001b[0m\n\u001b[0;32m---> 91\u001b[0;31m         \u001b[0mres\u001b[0m \u001b[0;34m=\u001b[0m \u001b[0mminimize\u001b[0m\u001b[0;34m(\u001b[0m\u001b[0mobj\u001b[0m\u001b[0;34m,\u001b[0m \u001b[0mv0\u001b[0m\u001b[0;34m,\u001b[0m \u001b[0mmethod\u001b[0m\u001b[0;34m=\u001b[0m\u001b[0;34m'Powell'\u001b[0m\u001b[0;34m)\u001b[0m\u001b[0;34m\u001b[0m\u001b[0;34m\u001b[0m\u001b[0m\n\u001b[0m\u001b[1;32m     92\u001b[0m         \u001b[0;32mreturn\u001b[0m \u001b[0mres\u001b[0m\u001b[0;34m\u001b[0m\u001b[0;34m\u001b[0m\u001b[0m\n\u001b[1;32m     93\u001b[0m \u001b[0;34m\u001b[0m\u001b[0m\n",
      "\u001b[0;32m~/miniconda3/envs/myenv/lib/python3.7/site-packages/scipy/optimize/_minimize.py\u001b[0m in \u001b[0;36mminimize\u001b[0;34m(fun, x0, args, method, jac, hess, hessp, bounds, constraints, tol, callback, options)\u001b[0m\n\u001b[1;32m    589\u001b[0m         \u001b[0;32mreturn\u001b[0m \u001b[0m_minimize_neldermead\u001b[0m\u001b[0;34m(\u001b[0m\u001b[0mfun\u001b[0m\u001b[0;34m,\u001b[0m \u001b[0mx0\u001b[0m\u001b[0;34m,\u001b[0m \u001b[0margs\u001b[0m\u001b[0;34m,\u001b[0m \u001b[0mcallback\u001b[0m\u001b[0;34m,\u001b[0m \u001b[0;34m**\u001b[0m\u001b[0moptions\u001b[0m\u001b[0;34m)\u001b[0m\u001b[0;34m\u001b[0m\u001b[0;34m\u001b[0m\u001b[0m\n\u001b[1;32m    590\u001b[0m     \u001b[0;32melif\u001b[0m \u001b[0mmeth\u001b[0m \u001b[0;34m==\u001b[0m \u001b[0;34m'powell'\u001b[0m\u001b[0;34m:\u001b[0m\u001b[0;34m\u001b[0m\u001b[0;34m\u001b[0m\u001b[0m\n\u001b[0;32m--> 591\u001b[0;31m         \u001b[0;32mreturn\u001b[0m \u001b[0m_minimize_powell\u001b[0m\u001b[0;34m(\u001b[0m\u001b[0mfun\u001b[0m\u001b[0;34m,\u001b[0m \u001b[0mx0\u001b[0m\u001b[0;34m,\u001b[0m \u001b[0margs\u001b[0m\u001b[0;34m,\u001b[0m \u001b[0mcallback\u001b[0m\u001b[0;34m,\u001b[0m \u001b[0;34m**\u001b[0m\u001b[0moptions\u001b[0m\u001b[0;34m)\u001b[0m\u001b[0;34m\u001b[0m\u001b[0;34m\u001b[0m\u001b[0m\n\u001b[0m\u001b[1;32m    592\u001b[0m     \u001b[0;32melif\u001b[0m \u001b[0mmeth\u001b[0m \u001b[0;34m==\u001b[0m \u001b[0;34m'cg'\u001b[0m\u001b[0;34m:\u001b[0m\u001b[0;34m\u001b[0m\u001b[0;34m\u001b[0m\u001b[0m\n\u001b[1;32m    593\u001b[0m         \u001b[0;32mreturn\u001b[0m \u001b[0m_minimize_cg\u001b[0m\u001b[0;34m(\u001b[0m\u001b[0mfun\u001b[0m\u001b[0;34m,\u001b[0m \u001b[0mx0\u001b[0m\u001b[0;34m,\u001b[0m \u001b[0margs\u001b[0m\u001b[0;34m,\u001b[0m \u001b[0mjac\u001b[0m\u001b[0;34m,\u001b[0m \u001b[0mcallback\u001b[0m\u001b[0;34m,\u001b[0m \u001b[0;34m**\u001b[0m\u001b[0moptions\u001b[0m\u001b[0;34m)\u001b[0m\u001b[0;34m\u001b[0m\u001b[0;34m\u001b[0m\u001b[0m\n",
      "\u001b[0;32m~/miniconda3/envs/myenv/lib/python3.7/site-packages/scipy/optimize/optimize.py\u001b[0m in \u001b[0;36m_minimize_powell\u001b[0;34m(func, x0, args, callback, xtol, ftol, maxiter, maxfev, disp, direc, return_all, **unknown_options)\u001b[0m\n\u001b[1;32m   2565\u001b[0m         \u001b[0mdirec\u001b[0m \u001b[0;34m=\u001b[0m \u001b[0masarray\u001b[0m\u001b[0;34m(\u001b[0m\u001b[0mdirec\u001b[0m\u001b[0;34m,\u001b[0m \u001b[0mdtype\u001b[0m\u001b[0;34m=\u001b[0m\u001b[0mfloat\u001b[0m\u001b[0;34m)\u001b[0m\u001b[0;34m\u001b[0m\u001b[0;34m\u001b[0m\u001b[0m\n\u001b[1;32m   2566\u001b[0m \u001b[0;34m\u001b[0m\u001b[0m\n\u001b[0;32m-> 2567\u001b[0;31m     \u001b[0mfval\u001b[0m \u001b[0;34m=\u001b[0m \u001b[0msqueeze\u001b[0m\u001b[0;34m(\u001b[0m\u001b[0mfunc\u001b[0m\u001b[0;34m(\u001b[0m\u001b[0mx\u001b[0m\u001b[0;34m)\u001b[0m\u001b[0;34m)\u001b[0m\u001b[0;34m\u001b[0m\u001b[0;34m\u001b[0m\u001b[0m\n\u001b[0m\u001b[1;32m   2568\u001b[0m     \u001b[0mx1\u001b[0m \u001b[0;34m=\u001b[0m \u001b[0mx\u001b[0m\u001b[0;34m.\u001b[0m\u001b[0mcopy\u001b[0m\u001b[0;34m(\u001b[0m\u001b[0;34m)\u001b[0m\u001b[0;34m\u001b[0m\u001b[0;34m\u001b[0m\u001b[0m\n\u001b[1;32m   2569\u001b[0m     \u001b[0miter\u001b[0m \u001b[0;34m=\u001b[0m \u001b[0;36m0\u001b[0m\u001b[0;34m\u001b[0m\u001b[0;34m\u001b[0m\u001b[0m\n",
      "\u001b[0;32m~/miniconda3/envs/myenv/lib/python3.7/site-packages/scipy/optimize/optimize.py\u001b[0m in \u001b[0;36mfunction_wrapper\u001b[0;34m(*wrapper_args)\u001b[0m\n\u001b[1;32m    298\u001b[0m     \u001b[0;32mdef\u001b[0m \u001b[0mfunction_wrapper\u001b[0m\u001b[0;34m(\u001b[0m\u001b[0;34m*\u001b[0m\u001b[0mwrapper_args\u001b[0m\u001b[0;34m)\u001b[0m\u001b[0;34m:\u001b[0m\u001b[0;34m\u001b[0m\u001b[0;34m\u001b[0m\u001b[0m\n\u001b[1;32m    299\u001b[0m         \u001b[0mncalls\u001b[0m\u001b[0;34m[\u001b[0m\u001b[0;36m0\u001b[0m\u001b[0;34m]\u001b[0m \u001b[0;34m+=\u001b[0m \u001b[0;36m1\u001b[0m\u001b[0;34m\u001b[0m\u001b[0;34m\u001b[0m\u001b[0m\n\u001b[0;32m--> 300\u001b[0;31m         \u001b[0;32mreturn\u001b[0m \u001b[0mfunction\u001b[0m\u001b[0;34m(\u001b[0m\u001b[0;34m*\u001b[0m\u001b[0;34m(\u001b[0m\u001b[0mwrapper_args\u001b[0m \u001b[0;34m+\u001b[0m \u001b[0margs\u001b[0m\u001b[0;34m)\u001b[0m\u001b[0;34m)\u001b[0m\u001b[0;34m\u001b[0m\u001b[0;34m\u001b[0m\u001b[0m\n\u001b[0m\u001b[1;32m    301\u001b[0m \u001b[0;34m\u001b[0m\u001b[0m\n\u001b[1;32m    302\u001b[0m     \u001b[0;32mreturn\u001b[0m \u001b[0mncalls\u001b[0m\u001b[0;34m,\u001b[0m \u001b[0mfunction_wrapper\u001b[0m\u001b[0;34m\u001b[0m\u001b[0;34m\u001b[0m\u001b[0m\n",
      "\u001b[0;32m<ipython-input-119-5fba8fb49077>\u001b[0m in \u001b[0;36mobj\u001b[0;34m(v)\u001b[0m\n\u001b[1;32m     72\u001b[0m                    ------|u|-----|v|--1'''\n\u001b[1;32m     73\u001b[0m             \u001b[0mv\u001b[0m \u001b[0;34m=\u001b[0m \u001b[0membed\u001b[0m\u001b[0;34m(\u001b[0m\u001b[0mmat\u001b[0m\u001b[0;34m(\u001b[0m\u001b[0mv\u001b[0m\u001b[0;34m)\u001b[0m\u001b[0;34m)\u001b[0m\u001b[0;34m\u001b[0m\u001b[0;34m\u001b[0m\u001b[0m\n\u001b[0;32m---> 74\u001b[0;31m             \u001b[0mu\u001b[0m\u001b[0;34m,\u001b[0m \u001b[0mv\u001b[0m \u001b[0;34m=\u001b[0m \u001b[0mTwoQubitMatrixGate\u001b[0m\u001b[0;34m(\u001b[0m\u001b[0mU\u001b[0m\u001b[0;34m)\u001b[0m\u001b[0;34m,\u001b[0m \u001b[0mTwoQubitMatrixGate\u001b[0m\u001b[0;34m(\u001b[0m\u001b[0mv\u001b[0m\u001b[0;34m)\u001b[0m\u001b[0;34m\u001b[0m\u001b[0;34m\u001b[0m\u001b[0m\n\u001b[0m\u001b[1;32m     75\u001b[0m \u001b[0;34m\u001b[0m\u001b[0m\n\u001b[1;32m     76\u001b[0m             \u001b[0mqbs\u001b[0m \u001b[0;34m=\u001b[0m \u001b[0;34m[\u001b[0m\u001b[0mLineQubit\u001b[0m\u001b[0;34m(\u001b[0m\u001b[0mi\u001b[0m\u001b[0;34m)\u001b[0m \u001b[0;32mfor\u001b[0m \u001b[0mi\u001b[0m \u001b[0;32min\u001b[0m \u001b[0mrange\u001b[0m\u001b[0;34m(\u001b[0m\u001b[0;36m3\u001b[0m\u001b[0;34m)\u001b[0m\u001b[0;34m]\u001b[0m\u001b[0;34m\u001b[0m\u001b[0;34m\u001b[0m\u001b[0m\n",
      "\u001b[0;32m~/miniconda3/envs/myenv/lib/python3.7/site-packages/cirq/ops/matrix_gates.py\u001b[0m in \u001b[0;36m__init__\u001b[0;34m(self, matrix)\u001b[0m\n\u001b[1;32m    124\u001b[0m \u001b[0;34m\u001b[0m\u001b[0m\n\u001b[1;32m    125\u001b[0m         \u001b[0;32mif\u001b[0m \u001b[0mmatrix\u001b[0m\u001b[0;34m.\u001b[0m\u001b[0mshape\u001b[0m \u001b[0;34m!=\u001b[0m \u001b[0;34m(\u001b[0m\u001b[0;36m4\u001b[0m\u001b[0;34m,\u001b[0m \u001b[0;36m4\u001b[0m\u001b[0;34m)\u001b[0m \u001b[0;32mor\u001b[0m \u001b[0;32mnot\u001b[0m \u001b[0mlinalg\u001b[0m\u001b[0;34m.\u001b[0m\u001b[0mis_unitary\u001b[0m\u001b[0;34m(\u001b[0m\u001b[0mmatrix\u001b[0m\u001b[0;34m)\u001b[0m\u001b[0;34m:\u001b[0m\u001b[0;34m\u001b[0m\u001b[0;34m\u001b[0m\u001b[0m\n\u001b[0;32m--> 126\u001b[0;31m             \u001b[0;32mraise\u001b[0m \u001b[0mValueError\u001b[0m\u001b[0;34m(\u001b[0m\u001b[0;34m'Not a 4x4 unitary matrix: {}'\u001b[0m\u001b[0;34m.\u001b[0m\u001b[0mformat\u001b[0m\u001b[0;34m(\u001b[0m\u001b[0mmatrix\u001b[0m\u001b[0;34m)\u001b[0m\u001b[0;34m)\u001b[0m\u001b[0;34m\u001b[0m\u001b[0;34m\u001b[0m\u001b[0m\n\u001b[0m\u001b[1;32m    127\u001b[0m         \u001b[0mself\u001b[0m\u001b[0;34m.\u001b[0m\u001b[0m_matrix\u001b[0m \u001b[0;34m=\u001b[0m \u001b[0mmatrix\u001b[0m\u001b[0;34m\u001b[0m\u001b[0;34m\u001b[0m\u001b[0m\n\u001b[1;32m    128\u001b[0m \u001b[0;34m\u001b[0m\u001b[0m\n",
      "\u001b[0;31mValueError\u001b[0m: Not a 4x4 unitary matrix: [[[[ 0.81825693+0.00713262j  0.12083766+0.22578553j]\n   [ 0.12083766+0.22578553j -0.42747031+0.12849969j]]\n\n  [[-0.28787169+0.18821345j  0.7348349 -0.23592573j]\n   [ 0.05926393+0.50136924j -0.16233265+0.0694773j ]]]\n\n\n [[[-0.28787169+0.18821345j  0.05926393+0.50136924j]\n   [ 0.7348349 -0.23592573j -0.16233265+0.0694773j ]]\n\n  [[ 0.1714275 +0.25382773j  0.0292104 +0.28816541j]\n   [ 0.0292104 +0.28816541j  0.7687343 +0.38398771j]]]]"
     ]
    }
   ],
   "source": [
    "class iCirqMPS(iMPS):\n",
    "    def __init__(self, data=None, canonical=None):\n",
    "        '''initialise an iMPS'''\n",
    "        super(iCirqMPS, self).__init__(data, canonical)\n",
    "        self.period = 1\n",
    "        self.d = 2\n",
    "        self.D = 2\n",
    "        \n",
    "    def __repr__(self):\n",
    "        if hasattr(self, 'circuit'):\n",
    "            return self.circuit.to_text_diagram(transpose=True)\n",
    "        else:\n",
    "            return 'iCirqMPS'\n",
    "    \n",
    "    def from_circuit(self, circuit=None):\n",
    "        '''takes a (right orthogonal) circuit and returns a (right orthogonal) iMPS representation'''\n",
    "        d, D = self.d, self.D\n",
    "        shape = self.create_structure(d, D)[0]\n",
    "\n",
    "        z = array([1, 0])\n",
    "        if circuit is None:\n",
    "            circuit = self.circuit\n",
    "        U = circuit[0].operations[0].gate._matrix.reshape([d]*4)\n",
    "        self.Us = [U]\n",
    "        U_ = tensordot(U, z, [0, 0]).transpose([1, 0, 2])\n",
    "    \n",
    "        self.data = [U_]\n",
    "        return self\n",
    "    \n",
    "    def to_operations(self, data=None):\n",
    "        '''takes a right (orthogonal) mps and doesn't check. need to implement canonical form for iMPS.\n",
    "           canonicalisation is not idempotent!'''\n",
    "        if data is None:\n",
    "            data = self.data  \n",
    "        d, D = self.d, self.D\n",
    "        As = [transpose(a, [1, 0, 2]) for a in data]\n",
    "        isometries = [a.reshape(-1, prod(a.shape[1:])) for a in As]\n",
    "        self.Us = [unitary_extension(Q, 4) for Q in isometries]\n",
    "        self.ops = [TwoQubitMatrixGate(u) for u in unitaries]\n",
    "        return self\n",
    "    \n",
    "    def to_circuit(self, data=None):\n",
    "        self.to_operations(data)\n",
    "        self.circuit = Circuit()\n",
    "        self.qbs = [LineQubit(0), LineQubit(1)]\n",
    "        self.circuit.append([op(self.qbs[i], self.qbs[i+1]) for i, op in enumerate(self.ops)])\n",
    "        return self\n",
    "    \n",
    "    def from_unitaries(self, Us):\n",
    "        self.Us = Us\n",
    "        self.ops = [TwoQubitMatrixGate(u) for u in Us]\n",
    "        self.qbs = [LineQubit(0), LineQubit(1)]\n",
    "        self.circuit = Circuit()\n",
    "        self.circuit.append([op(self.qbs[i], self.qbs[i+1]) for i, op in enumerate(self.ops)])\n",
    "        self.from_circuit()\n",
    "        return self\n",
    "    \n",
    "    def add_env_op(self, v0=None):\n",
    "        '''(D=2): get the environment on the circuit'''\n",
    "        if v0 is None:\n",
    "            v0 = randn(8)\n",
    "        if not hasattr(self, 'ops'):\n",
    "            if hasattr(self, 'data'):\n",
    "                self.to_operations()\n",
    "            else:\n",
    "                raise Exception(\"need data\")\n",
    "                \n",
    "        def obj(v):\n",
    "            '''takes a vectorized real rep of 2x2 matrix\n",
    "            return --|v|-----|u|------1\n",
    "                   --|v|-|u|-|u|-|v|--1\n",
    "                   ------|u|-----|v|--1'''\n",
    "            v = embed(mat(v))\n",
    "            u, v = TwoQubitMatrixGate(U), TwoQubitMatrixGate(v)\n",
    "\n",
    "            qbs = [LineQubit(i) for i in range(3)]\n",
    "            uv, vu, inv_vu, inv_uv = Circuit(), Circuit(), Circuit(), Circuit()\n",
    "\n",
    "            uv.append([v(qbs[1], qbs[2]), u(qbs[0], qbs[1])])\n",
    "            inv_uv.append([inverse(u(qbs[0], qbs[1])), inverse(v(qbs[1], qbs[2]))])\n",
    "\n",
    "            vu.append([v(qbs[0], qbs[1]), u(qbs[1], qbs[2])])\n",
    "            inv_vu.append([inverse(u(qbs[1], qbs[2])), inverse(v(qbs[0], qbs[1]))])\n",
    "\n",
    "            C = (vu+inv_uv)\n",
    "            i = C.apply_unitary_effect_to_state(0b000)\n",
    "\n",
    "            upupup = kron(kron(array([1, 0]), array([1, 0])), array([1, 0]))\n",
    "            return norm(upupup-i)\n",
    "         \n",
    "        res = minimize(obj, v0, method='Powell')\n",
    "        return res\n",
    "        \n",
    "def test_iCirqMPS():\n",
    "    v = array([1, 2, 3, 4, 5, 6, 7, 8, 9])\n",
    "    Us = [U4s(v)]\n",
    "    print(is_swap_symmetric(Us[0]))\n",
    "    \n",
    "    A = iCirqMPS().from_unitaries(Us)    \n",
    "    A.add_env_op()\n",
    "    print('Complete')\n",
    "\n",
    "test_iCirqMPS()"
   ]
  },
  {
   "cell_type": "code",
   "execution_count": 120,
   "metadata": {},
   "outputs": [],
   "source": [
    "from numpy import tensordot as td, real, imag\n",
    "# 2 3\n",
    "# | |\n",
    "# ---\n",
    "# | |\n",
    "# 0 1\n",
    "\n",
    "# 2i I\n",
    "# |  |\n",
    "# ----\n",
    "# |  |\n",
    "# 0s 1j\n",
    "\n",
    "# I 3j\n",
    "# |  |\n",
    "# ----\n",
    "# |  |\n",
    "# 0i 1s"
   ]
  },
  {
   "cell_type": "code",
   "execution_count": 284,
   "metadata": {},
   "outputs": [],
   "source": [
    "def is_unitary(u):\n",
    "    return allclose(eye(u.shape[0]), u@u.conj().T)\n",
    "\n",
    "def embed(v):\n",
    "    '''put a matrix into a unitary'''\n",
    "    v = v.reshape(1, -1)/norm(v)\n",
    "    vs = null_space(v).conj().T\n",
    "    return concatenate([v, vs], 0).T\n",
    "\n",
    "def deembed(u):\n",
    "    '''take a matrix out of a unitary'''\n",
    "    return (u@array([1, 0, 0, 0])).reshape(2, 2)\n",
    "\n",
    "def mat(v):\n",
    "    re, im = v[:4], v[4:]\n",
    "    C = (re+im*1j).reshape(int(sqrt(len(v))), -1)\n",
    "    return C\n",
    "\n",
    "def demat(A):\n",
    "    re, im = real(A).reshape(-1), imag(A).reshape(-1)  \n",
    "    return concatenate([re, im], axis=0)\n",
    "\n",
    "Q = randn(2, 2)+1j*randn(2, 2)\n",
    "\n",
    "assert is_unitary(embed(Q))\n",
    "assert allclose(Q, deembed(embed(Q))*norm(Q))\n",
    "assert allclose(norm(mat(demat(Q))-Q), 0)\n",
    "\n",
    "SWAP = ((Sx1@Sx2+Sy1@Sy2+Sz1@Sz2)+eye(4))/2"
   ]
  },
  {
   "cell_type": "code",
   "execution_count": 666,
   "metadata": {},
   "outputs": [],
   "source": [
    "H = 4*(Sx1@Sx2+Sy1@Sy2+Sz1@Sz2).reshape(2, 2, 2, 2) \n",
    "x = randn(9)\n",
    "U = U4s(x)\n",
    "C, AL, AR = to_mps(U)"
   ]
  },
  {
   "cell_type": "code",
   "execution_count": 699,
   "metadata": {},
   "outputs": [],
   "source": [
    "def to_mps(U):\n",
    "    U = U.reshape(2, 2, 2, 2)\n",
    "    z = array([1, 0])\n",
    "\n",
    "    # take a unitary, return [AL, AR, C]\n",
    "    AL = td(U, z, [3, 0]).transpose([0, 2, 1]) # -> (s, j, i) -> (s, i, j)\n",
    "    AR = td(U, z, [2, 0]).transpose([1, 0, 2]) # -> (i, s, j) -> (s, i, j)\n",
    "\n",
    "\n",
    "    assert allclose(norm(AL-T(AR)), 0)\n",
    "\n",
    "    def obj(v):\n",
    "        C = mat(v)\n",
    "        return norm(AL@C-C@AR)\n",
    "\n",
    "    res = minimize(obj, randn(8), method='Powell')\n",
    "    P = mat(res.x)\n",
    "    P /= norm(P)\n",
    "\n",
    "    A = iMPS([copy(AR)])\n",
    "    _, l, r = A.transfer_matrix().eigs()\n",
    "    L, R = cholesky(l), cholesky(r)\n",
    "    Q = L@R\n",
    "    assert allclose(svals(Q)/norm(svals(Q)), svals(P/norm(svals(P))))\n",
    "    #print(res.fun, svals(Q)/norm(svals(Q)), svals(P)/norm(svals(P)), sep='\\n')\n",
    "    # P comes from minimization procedure, Q from eigenvalues. \n",
    "    # P is correct, (in that it pulls through) but only unitarily the same as Q\n",
    "    # Q doesn't pull through?\n",
    "\n",
    "    assert res.fun<1e-10\n",
    "\n",
    "    assert allclose(sum(AL@cT(AL), 0), eye(2))\n",
    "    assert not allclose(sum(AR@cT(AR), 0), eye(2))\n",
    "\n",
    "    assert allclose(sum(cT(AR)@AR, 0), eye(2))\n",
    "    assert not allclose(sum(cT(AL)@AL, 0), eye(2))\n",
    "    return [P, AL, AR]\n",
    "\n",
    "def ev1(U, op):\n",
    "    P, AL, AR = to_mps(U)\n",
    "    AC = AR@P\n",
    "    AC_ = td(op, AC, [1, 0])\n",
    "    return real(sum(AC@cT(AC_), 0).trace())\n",
    "\n",
    "def ev2(U, op):\n",
    "    P, AL, AR = to_mps(U)\n",
    "    AC = AR@P\n",
    "    return real(ncon([c(AC), c(AR), op, AC, AR], [[1, 5, 6], \n",
    "                                                  [2, 6, 7], \n",
    "                                                  [1, 2, 3, 4], \n",
    "                                                  [3, 5, 8], \n",
    "                                                  [4, 8, 7]]))\n",
    "\n",
    "def minIsing(U, rep=100):\n",
    "    qbs = [LineQubit(i) for i in range(4)]\n",
    "    for _ in range(1):\n",
    "        P, _, _ = to_mps(U)\n",
    "        V = embed(P)\n",
    "        U, V = TwoQubitMatrixGate(U), TwoQubitMatrixGate(V)\n",
    "        c = Circuit()\n",
    "        c.append([V(qbs[1], qbs[2]), \n",
    "                  U(qbs[0], qbs[1])])\n",
    "        c.append(cirq.measure(qbs[1], key='x'))\n",
    "        \n",
    "        simulator = cirq.google.XmonSimulator()\n",
    "        res = simulator.run(c, repetitions=rep)\n",
    "        data = res.measurements['x'].astype(int)  \n",
    "        \n",
    "    zI = data.mean(0)\n",
    "    return zI\n"
   ]
  },
  {
   "cell_type": "code",
   "execution_count": 700,
   "metadata": {},
   "outputs": [
    {
     "data": {
      "text/plain": [
       "(array([0.44]), 0.06929725750784357)"
      ]
     },
     "execution_count": 700,
     "metadata": {},
     "output_type": "execute_result"
    }
   ],
   "source": [
    "from numpy import pi\n",
    "from scipy.linalg import expm\n",
    "U = U4s(x)\n",
    "minIsing(U, 1000), ev1(U, Sz)"
   ]
  },
  {
   "cell_type": "code",
   "execution_count": 13,
   "metadata": {},
   "outputs": [],
   "source": [
    "U = U.reshape(4, 4)\n",
    "def qobj(v):\n",
    "    '''takes a vectorized real rep of 2d matrix'''\n",
    "    v = embed(mat(v))\n",
    "    u, v = TwoQubitMatrixGate(U), TwoQubitMatrixGate(v)\n",
    "\n",
    "    qbs = [LineQubit(i) for i in range(3)]\n",
    "    uv, vu, inv_vu, inv_uv = Circuit(), Circuit(), Circuit(), Circuit()\n",
    "\n",
    "    uv.append([v(qbs[1], qbs[2]), u(qbs[0], qbs[1])])\n",
    "    inv_uv.append([inverse(u(qbs[0], qbs[1])), inverse(v(qbs[1], qbs[2]))])\n",
    "    \n",
    "    vu.append([v(qbs[0], qbs[1]), u(qbs[1], qbs[2])])\n",
    "    inv_vu.append([inverse(u(qbs[1], qbs[2])), inverse(v(qbs[0], qbs[1]))])\n",
    "\n",
    "    C = (vu+inv_uv)\n",
    "    i = C.apply_unitary_effect_to_state(0b000)\n",
    "    \n",
    "    upupup = kron(kron(array([1, 0]), array([1, 0])), array([1, 0]))\n",
    "    return norm(upupup-i)"
   ]
  },
  {
   "cell_type": "code",
   "execution_count": 14,
   "metadata": {},
   "outputs": [
    {
     "data": {
      "text/plain": [
       "array([0.91416536, 0.40534146])"
      ]
     },
     "execution_count": 14,
     "metadata": {},
     "output_type": "execute_result"
    }
   ],
   "source": [
    "F = minimize(qobj, randn(8), method='BFGS', tol=0.01)\n",
    "svals(mat(F.x))/norm(svals(mat(F.x)))"
   ]
  },
  {
   "cell_type": "code",
   "execution_count": 352,
   "metadata": {},
   "outputs": [],
   "source": [
    "def f(x):\n",
    "    def qobj_measure(v):\n",
    "        '''takes a vectorized real rep of 2d matrix'''\n",
    "        v = embed(mat(v))\n",
    "        u, v = TwoQubitMatrixGate(U), TwoQubitMatrixGate(v)\n",
    "\n",
    "        qbs = [LineQubit(i) for i in range(3)]\n",
    "        uv, vu, inv_vu, inv_uv = Circuit(), Circuit(), Circuit(), Circuit()\n",
    "\n",
    "        uv.append([v(qbs[1], qbs[2]), u(qbs[0], qbs[1])])\n",
    "        inv_uv.append([inverse(u(qbs[0], qbs[1])), inverse(v(qbs[1], qbs[2]))])\n",
    "\n",
    "        vu.append([v(qbs[0], qbs[1]), u(qbs[1], qbs[2])])\n",
    "        inv_vu.append([inverse(u(qbs[1], qbs[2])), inverse(v(qbs[0], qbs[1]))])\n",
    "\n",
    "        C = (vu+inv_uv)\n",
    "        C.append([cirq.measure(*qbs, key='x')])\n",
    "        return C\n",
    "\n",
    "    simulator = cirq.google.XmonSimulator()\n",
    "    res = simulator.run(qobj_measure(x), repetitions=1000)\n",
    "    data = res.measurements['x'].astype(int)\n",
    "    return norm(data.mean(axis=0)-array([1, 0, 0]))"
   ]
  },
  {
   "cell_type": "code",
   "execution_count": 355,
   "metadata": {},
   "outputs": [],
   "source": [
    "from tqdm import tqdm_notebook as tqdm\n",
    "def grad(f, x, eps):\n",
    "    e = eye(len(x))\n",
    "    J = zeros(len(x))\n",
    "    for i in range(len(x)):\n",
    "        J[i] = (f(x+eps*e[i])-f(x))/eps\n",
    "    return J\n",
    "\n",
    "def gd(f, x0, eps, n_iters=100):\n",
    "    xs = [x0]\n",
    "    for i in tqdm(range(n_iters)):\n",
    "        xs.append(xs[-1]-eps*grad(f, xs[-1], eps))\n",
    "    print(f(xs[-1]))\n",
    "    return xs"
   ]
  },
  {
   "cell_type": "code",
   "execution_count": 356,
   "metadata": {},
   "outputs": [
    {
     "data": {
      "application/vnd.jupyter.widget-view+json": {
       "model_id": "5a69cc03225f472a96ba3df44435b44c",
       "version_major": 2,
       "version_minor": 0
      },
      "text/plain": [
       "HBox(children=(IntProgress(value=0), HTML(value='')))"
      ]
     },
     "metadata": {},
     "output_type": "display_data"
    },
    {
     "ename": "KeyboardInterrupt",
     "evalue": "",
     "output_type": "error",
     "traceback": [
      "\u001b[0;31m---------------------------------------------------------------------------\u001b[0m",
      "\u001b[0;31mKeyboardInterrupt\u001b[0m                         Traceback (most recent call last)",
      "\u001b[0;32m<ipython-input-356-c24f38c381e0>\u001b[0m in \u001b[0;36m<module>\u001b[0;34m()\u001b[0m\n\u001b[0;32m----> 1\u001b[0;31m \u001b[0mxs\u001b[0m \u001b[0;34m=\u001b[0m \u001b[0mgd\u001b[0m\u001b[0;34m(\u001b[0m\u001b[0mf\u001b[0m\u001b[0;34m,\u001b[0m \u001b[0mrandn\u001b[0m\u001b[0;34m(\u001b[0m\u001b[0;36m8\u001b[0m\u001b[0;34m)\u001b[0m\u001b[0;34m,\u001b[0m \u001b[0;36m0.1\u001b[0m\u001b[0;34m)\u001b[0m\u001b[0;34m\u001b[0m\u001b[0;34m\u001b[0m\u001b[0m\n\u001b[0m",
      "\u001b[0;32m<ipython-input-355-3f36418e196a>\u001b[0m in \u001b[0;36mgd\u001b[0;34m(f, x0, eps, n_iters)\u001b[0m\n\u001b[1;32m     10\u001b[0m     \u001b[0mxs\u001b[0m \u001b[0;34m=\u001b[0m \u001b[0;34m[\u001b[0m\u001b[0mx0\u001b[0m\u001b[0;34m]\u001b[0m\u001b[0;34m\u001b[0m\u001b[0;34m\u001b[0m\u001b[0m\n\u001b[1;32m     11\u001b[0m     \u001b[0;32mfor\u001b[0m \u001b[0mi\u001b[0m \u001b[0;32min\u001b[0m \u001b[0mtqdm\u001b[0m\u001b[0;34m(\u001b[0m\u001b[0mrange\u001b[0m\u001b[0;34m(\u001b[0m\u001b[0mn_iters\u001b[0m\u001b[0;34m)\u001b[0m\u001b[0;34m)\u001b[0m\u001b[0;34m:\u001b[0m\u001b[0;34m\u001b[0m\u001b[0;34m\u001b[0m\u001b[0m\n\u001b[0;32m---> 12\u001b[0;31m         \u001b[0mxs\u001b[0m\u001b[0;34m.\u001b[0m\u001b[0mappend\u001b[0m\u001b[0;34m(\u001b[0m\u001b[0mxs\u001b[0m\u001b[0;34m[\u001b[0m\u001b[0;34m-\u001b[0m\u001b[0;36m1\u001b[0m\u001b[0;34m]\u001b[0m\u001b[0;34m-\u001b[0m\u001b[0meps\u001b[0m\u001b[0;34m*\u001b[0m\u001b[0mgrad\u001b[0m\u001b[0;34m(\u001b[0m\u001b[0mf\u001b[0m\u001b[0;34m,\u001b[0m \u001b[0mxs\u001b[0m\u001b[0;34m[\u001b[0m\u001b[0;34m-\u001b[0m\u001b[0;36m1\u001b[0m\u001b[0;34m]\u001b[0m\u001b[0;34m,\u001b[0m \u001b[0meps\u001b[0m\u001b[0;34m)\u001b[0m\u001b[0;34m)\u001b[0m\u001b[0;34m\u001b[0m\u001b[0;34m\u001b[0m\u001b[0m\n\u001b[0m\u001b[1;32m     13\u001b[0m     \u001b[0mprint\u001b[0m\u001b[0;34m(\u001b[0m\u001b[0mf\u001b[0m\u001b[0;34m(\u001b[0m\u001b[0mxs\u001b[0m\u001b[0;34m[\u001b[0m\u001b[0;34m-\u001b[0m\u001b[0;36m1\u001b[0m\u001b[0;34m]\u001b[0m\u001b[0;34m)\u001b[0m\u001b[0;34m)\u001b[0m\u001b[0;34m\u001b[0m\u001b[0;34m\u001b[0m\u001b[0m\n\u001b[1;32m     14\u001b[0m     \u001b[0;32mreturn\u001b[0m \u001b[0mxs\u001b[0m\u001b[0;34m\u001b[0m\u001b[0;34m\u001b[0m\u001b[0m\n",
      "\u001b[0;32m<ipython-input-355-3f36418e196a>\u001b[0m in \u001b[0;36mgrad\u001b[0;34m(f, x, eps)\u001b[0m\n\u001b[1;32m      4\u001b[0m     \u001b[0mJ\u001b[0m \u001b[0;34m=\u001b[0m \u001b[0mzeros\u001b[0m\u001b[0;34m(\u001b[0m\u001b[0mlen\u001b[0m\u001b[0;34m(\u001b[0m\u001b[0mx\u001b[0m\u001b[0;34m)\u001b[0m\u001b[0;34m)\u001b[0m\u001b[0;34m\u001b[0m\u001b[0;34m\u001b[0m\u001b[0m\n\u001b[1;32m      5\u001b[0m     \u001b[0;32mfor\u001b[0m \u001b[0mi\u001b[0m \u001b[0;32min\u001b[0m \u001b[0mrange\u001b[0m\u001b[0;34m(\u001b[0m\u001b[0mlen\u001b[0m\u001b[0;34m(\u001b[0m\u001b[0mx\u001b[0m\u001b[0;34m)\u001b[0m\u001b[0;34m)\u001b[0m\u001b[0;34m:\u001b[0m\u001b[0;34m\u001b[0m\u001b[0;34m\u001b[0m\u001b[0m\n\u001b[0;32m----> 6\u001b[0;31m         \u001b[0mJ\u001b[0m\u001b[0;34m[\u001b[0m\u001b[0mi\u001b[0m\u001b[0;34m]\u001b[0m \u001b[0;34m=\u001b[0m \u001b[0;34m(\u001b[0m\u001b[0mf\u001b[0m\u001b[0;34m(\u001b[0m\u001b[0mx\u001b[0m\u001b[0;34m+\u001b[0m\u001b[0meps\u001b[0m\u001b[0;34m*\u001b[0m\u001b[0me\u001b[0m\u001b[0;34m[\u001b[0m\u001b[0mi\u001b[0m\u001b[0;34m]\u001b[0m\u001b[0;34m)\u001b[0m\u001b[0;34m-\u001b[0m\u001b[0mf\u001b[0m\u001b[0;34m(\u001b[0m\u001b[0mx\u001b[0m\u001b[0;34m)\u001b[0m\u001b[0;34m)\u001b[0m\u001b[0;34m/\u001b[0m\u001b[0meps\u001b[0m\u001b[0;34m\u001b[0m\u001b[0;34m\u001b[0m\u001b[0m\n\u001b[0m\u001b[1;32m      7\u001b[0m     \u001b[0;32mreturn\u001b[0m \u001b[0mJ\u001b[0m\u001b[0;34m\u001b[0m\u001b[0;34m\u001b[0m\u001b[0m\n\u001b[1;32m      8\u001b[0m \u001b[0;34m\u001b[0m\u001b[0m\n",
      "\u001b[0;32m<ipython-input-352-ea44f561320e>\u001b[0m in \u001b[0;36mf\u001b[0;34m(x)\u001b[0m\n\u001b[1;32m     19\u001b[0m \u001b[0;34m\u001b[0m\u001b[0m\n\u001b[1;32m     20\u001b[0m     \u001b[0msimulator\u001b[0m \u001b[0;34m=\u001b[0m \u001b[0mcirq\u001b[0m\u001b[0;34m.\u001b[0m\u001b[0mgoogle\u001b[0m\u001b[0;34m.\u001b[0m\u001b[0mXmonSimulator\u001b[0m\u001b[0;34m(\u001b[0m\u001b[0;34m)\u001b[0m\u001b[0;34m\u001b[0m\u001b[0;34m\u001b[0m\u001b[0m\n\u001b[0;32m---> 21\u001b[0;31m     \u001b[0mres\u001b[0m \u001b[0;34m=\u001b[0m \u001b[0msimulator\u001b[0m\u001b[0;34m.\u001b[0m\u001b[0mrun\u001b[0m\u001b[0;34m(\u001b[0m\u001b[0mqobj_measure\u001b[0m\u001b[0;34m(\u001b[0m\u001b[0mx\u001b[0m\u001b[0;34m)\u001b[0m\u001b[0;34m,\u001b[0m \u001b[0mrepetitions\u001b[0m\u001b[0;34m=\u001b[0m\u001b[0;36m1000\u001b[0m\u001b[0;34m)\u001b[0m\u001b[0;34m\u001b[0m\u001b[0;34m\u001b[0m\u001b[0m\n\u001b[0m\u001b[1;32m     22\u001b[0m     \u001b[0mdata\u001b[0m \u001b[0;34m=\u001b[0m \u001b[0mres\u001b[0m\u001b[0;34m.\u001b[0m\u001b[0mmeasurements\u001b[0m\u001b[0;34m[\u001b[0m\u001b[0;34m'x'\u001b[0m\u001b[0;34m]\u001b[0m\u001b[0;34m.\u001b[0m\u001b[0mastype\u001b[0m\u001b[0;34m(\u001b[0m\u001b[0mint\u001b[0m\u001b[0;34m)\u001b[0m\u001b[0;34m\u001b[0m\u001b[0;34m\u001b[0m\u001b[0m\n\u001b[1;32m     23\u001b[0m     \u001b[0;32mreturn\u001b[0m \u001b[0mnorm\u001b[0m\u001b[0;34m(\u001b[0m\u001b[0mdata\u001b[0m\u001b[0;34m.\u001b[0m\u001b[0mmean\u001b[0m\u001b[0;34m(\u001b[0m\u001b[0maxis\u001b[0m\u001b[0;34m=\u001b[0m\u001b[0;36m0\u001b[0m\u001b[0;34m)\u001b[0m\u001b[0;34m-\u001b[0m\u001b[0marray\u001b[0m\u001b[0;34m(\u001b[0m\u001b[0;34m[\u001b[0m\u001b[0;36m1\u001b[0m\u001b[0;34m,\u001b[0m \u001b[0;36m0\u001b[0m\u001b[0;34m,\u001b[0m \u001b[0;36m0\u001b[0m\u001b[0;34m]\u001b[0m\u001b[0;34m)\u001b[0m\u001b[0;34m)\u001b[0m\u001b[0;34m\u001b[0m\u001b[0;34m\u001b[0m\u001b[0m\n",
      "\u001b[0;32m~/miniconda3/envs/myenv/lib/python3.7/site-packages/cirq/sim/simulator.py\u001b[0m in \u001b[0;36mrun\u001b[0;34m(self, circuit, param_resolver, repetitions)\u001b[0m\n\u001b[1;32m     53\u001b[0m             \u001b[0mTrialResult\u001b[0m \u001b[0;32mfor\u001b[0m \u001b[0ma\u001b[0m \u001b[0mrun\u001b[0m\u001b[0;34m.\u001b[0m\u001b[0;34m\u001b[0m\u001b[0;34m\u001b[0m\u001b[0m\n\u001b[1;32m     54\u001b[0m         \"\"\"\n\u001b[0;32m---> 55\u001b[0;31m         \u001b[0;32mreturn\u001b[0m \u001b[0mself\u001b[0m\u001b[0;34m.\u001b[0m\u001b[0mrun_sweep\u001b[0m\u001b[0;34m(\u001b[0m\u001b[0mcircuit\u001b[0m\u001b[0;34m,\u001b[0m \u001b[0;34m[\u001b[0m\u001b[0mparam_resolver\u001b[0m\u001b[0;34m]\u001b[0m\u001b[0;34m,\u001b[0m \u001b[0mrepetitions\u001b[0m\u001b[0;34m)\u001b[0m\u001b[0;34m[\u001b[0m\u001b[0;36m0\u001b[0m\u001b[0;34m]\u001b[0m\u001b[0;34m\u001b[0m\u001b[0;34m\u001b[0m\u001b[0m\n\u001b[0m\u001b[1;32m     56\u001b[0m \u001b[0;34m\u001b[0m\u001b[0m\n\u001b[1;32m     57\u001b[0m     def run_sweep(\n",
      "\u001b[0;32m~/miniconda3/envs/myenv/lib/python3.7/site-packages/cirq/sim/simulator.py\u001b[0m in \u001b[0;36mrun_sweep\u001b[0;34m(self, program, params, repetitions)\u001b[0m\n\u001b[1;32m     83\u001b[0m             measurements = self._run(circuit=circuit,\n\u001b[1;32m     84\u001b[0m                                      \u001b[0mparam_resolver\u001b[0m\u001b[0;34m=\u001b[0m\u001b[0mparam_resolver\u001b[0m\u001b[0;34m,\u001b[0m\u001b[0;34m\u001b[0m\u001b[0;34m\u001b[0m\u001b[0m\n\u001b[0;32m---> 85\u001b[0;31m                                      repetitions=repetitions)\n\u001b[0m\u001b[1;32m     86\u001b[0m             \u001b[0mas_array\u001b[0m \u001b[0;34m=\u001b[0m \u001b[0mdict\u001b[0m\u001b[0;34m(\u001b[0m\u001b[0;34m(\u001b[0m\u001b[0mk\u001b[0m\u001b[0;34m,\u001b[0m \u001b[0mnp\u001b[0m\u001b[0;34m.\u001b[0m\u001b[0marray\u001b[0m\u001b[0;34m(\u001b[0m\u001b[0mv\u001b[0m\u001b[0;34m)\u001b[0m\u001b[0;34m)\u001b[0m \u001b[0;32mfor\u001b[0m \u001b[0mk\u001b[0m\u001b[0;34m,\u001b[0m \u001b[0mv\u001b[0m \u001b[0;32min\u001b[0m \u001b[0mmeasurements\u001b[0m\u001b[0;34m.\u001b[0m\u001b[0mitems\u001b[0m\u001b[0;34m(\u001b[0m\u001b[0;34m)\u001b[0m\u001b[0;34m)\u001b[0m\u001b[0;34m\u001b[0m\u001b[0;34m\u001b[0m\u001b[0m\n\u001b[1;32m     87\u001b[0m             trial_results.append(study.TrialResult(params=param_resolver,\n",
      "\u001b[0;32m~/miniconda3/envs/myenv/lib/python3.7/site-packages/cirq/google/sim/xmon_simulator.py\u001b[0m in \u001b[0;36m_run\u001b[0;34m(self, circuit, param_resolver, repetitions)\u001b[0m\n\u001b[1;32m    131\u001b[0m         xmon_circuit, keys = self._to_xmon_circuit(\n\u001b[1;32m    132\u001b[0m             \u001b[0mcircuit\u001b[0m\u001b[0;34m,\u001b[0m\u001b[0;34m\u001b[0m\u001b[0;34m\u001b[0m\u001b[0m\n\u001b[0;32m--> 133\u001b[0;31m             param_resolver)\n\u001b[0m\u001b[1;32m    134\u001b[0m         \u001b[0;32mif\u001b[0m \u001b[0mxmon_circuit\u001b[0m\u001b[0;34m.\u001b[0m\u001b[0mare_all_measurements_terminal\u001b[0m\u001b[0;34m(\u001b[0m\u001b[0;34m)\u001b[0m\u001b[0;34m:\u001b[0m\u001b[0;34m\u001b[0m\u001b[0;34m\u001b[0m\u001b[0m\n\u001b[1;32m    135\u001b[0m             \u001b[0;32mreturn\u001b[0m \u001b[0mself\u001b[0m\u001b[0;34m.\u001b[0m\u001b[0m_run_sweep_sample\u001b[0m\u001b[0;34m(\u001b[0m\u001b[0mxmon_circuit\u001b[0m\u001b[0;34m,\u001b[0m \u001b[0mrepetitions\u001b[0m\u001b[0;34m)\u001b[0m\u001b[0;34m\u001b[0m\u001b[0;34m\u001b[0m\u001b[0m\n",
      "\u001b[0;32m~/miniconda3/envs/myenv/lib/python3.7/site-packages/cirq/google/sim/xmon_simulator.py\u001b[0m in \u001b[0;36m_to_xmon_circuit\u001b[0;34m(self, circuit, param_resolver)\u001b[0m\n\u001b[1;32m    261\u001b[0m         \u001b[0mxmon_circuit\u001b[0m \u001b[0;34m=\u001b[0m \u001b[0mprotocols\u001b[0m\u001b[0;34m.\u001b[0m\u001b[0mresolve_parameters\u001b[0m\u001b[0;34m(\u001b[0m\u001b[0mcircuit\u001b[0m\u001b[0;34m,\u001b[0m \u001b[0mparam_resolver\u001b[0m\u001b[0;34m)\u001b[0m\u001b[0;34m\u001b[0m\u001b[0;34m\u001b[0m\u001b[0m\n\u001b[1;32m    262\u001b[0m         convert_to_xmon_gates.ConvertToXmonGates().optimize_circuit(\n\u001b[0;32m--> 263\u001b[0;31m             xmon_circuit)\n\u001b[0m\u001b[1;32m    264\u001b[0m         \u001b[0moptimizers\u001b[0m\u001b[0;34m.\u001b[0m\u001b[0mDropEmptyMoments\u001b[0m\u001b[0;34m(\u001b[0m\u001b[0;34m)\u001b[0m\u001b[0;34m.\u001b[0m\u001b[0moptimize_circuit\u001b[0m\u001b[0;34m(\u001b[0m\u001b[0mxmon_circuit\u001b[0m\u001b[0;34m)\u001b[0m\u001b[0;34m\u001b[0m\u001b[0;34m\u001b[0m\u001b[0m\n\u001b[1;32m    265\u001b[0m         \u001b[0mkeys\u001b[0m \u001b[0;34m=\u001b[0m \u001b[0mfind_measurement_keys\u001b[0m\u001b[0;34m(\u001b[0m\u001b[0mxmon_circuit\u001b[0m\u001b[0;34m)\u001b[0m\u001b[0;34m\u001b[0m\u001b[0;34m\u001b[0m\u001b[0m\n",
      "\u001b[0;32m~/miniconda3/envs/myenv/lib/python3.7/site-packages/cirq/circuits/optimization_pass.py\u001b[0m in \u001b[0;36moptimize_circuit\u001b[0;34m(self, circuit)\u001b[0m\n\u001b[1;32m    143\u001b[0m                 \u001b[0;32mif\u001b[0m \u001b[0mop\u001b[0m \u001b[0;32mnot\u001b[0m \u001b[0;32min\u001b[0m \u001b[0mcircuit\u001b[0m\u001b[0;34m[\u001b[0m\u001b[0mi\u001b[0m\u001b[0;34m]\u001b[0m\u001b[0;34m.\u001b[0m\u001b[0moperations\u001b[0m\u001b[0;34m:\u001b[0m\u001b[0;34m\u001b[0m\u001b[0;34m\u001b[0m\u001b[0m\n\u001b[1;32m    144\u001b[0m                     \u001b[0;32mcontinue\u001b[0m\u001b[0;34m\u001b[0m\u001b[0;34m\u001b[0m\u001b[0m\n\u001b[0;32m--> 145\u001b[0;31m                 \u001b[0mopt\u001b[0m \u001b[0;34m=\u001b[0m \u001b[0mself\u001b[0m\u001b[0;34m.\u001b[0m\u001b[0moptimization_at\u001b[0m\u001b[0;34m(\u001b[0m\u001b[0mcircuit\u001b[0m\u001b[0;34m,\u001b[0m \u001b[0mi\u001b[0m\u001b[0;34m,\u001b[0m \u001b[0mop\u001b[0m\u001b[0;34m)\u001b[0m\u001b[0;34m\u001b[0m\u001b[0;34m\u001b[0m\u001b[0m\n\u001b[0m\u001b[1;32m    146\u001b[0m                 \u001b[0;31m# Skip if the optimization did nothing.\u001b[0m\u001b[0;34m\u001b[0m\u001b[0;34m\u001b[0m\u001b[0;34m\u001b[0m\u001b[0m\n\u001b[1;32m    147\u001b[0m                 \u001b[0;32mif\u001b[0m \u001b[0mopt\u001b[0m \u001b[0;32mis\u001b[0m \u001b[0;32mNone\u001b[0m\u001b[0;34m:\u001b[0m\u001b[0;34m\u001b[0m\u001b[0;34m\u001b[0m\u001b[0m\n",
      "\u001b[0;32m~/miniconda3/envs/myenv/lib/python3.7/site-packages/cirq/google/convert_to_xmon_gates.py\u001b[0m in \u001b[0;36moptimization_at\u001b[0;34m(self, circuit, index, op)\u001b[0m\n\u001b[1;32m     77\u001b[0m \u001b[0;34m\u001b[0m\u001b[0m\n\u001b[1;32m     78\u001b[0m     \u001b[0;32mdef\u001b[0m \u001b[0moptimization_at\u001b[0m\u001b[0;34m(\u001b[0m\u001b[0mself\u001b[0m\u001b[0;34m,\u001b[0m \u001b[0mcircuit\u001b[0m\u001b[0;34m,\u001b[0m \u001b[0mindex\u001b[0m\u001b[0;34m,\u001b[0m \u001b[0mop\u001b[0m\u001b[0;34m)\u001b[0m\u001b[0;34m:\u001b[0m\u001b[0;34m\u001b[0m\u001b[0;34m\u001b[0m\u001b[0m\n\u001b[0;32m---> 79\u001b[0;31m         \u001b[0mconverted\u001b[0m \u001b[0;34m=\u001b[0m \u001b[0mself\u001b[0m\u001b[0;34m.\u001b[0m\u001b[0mconvert\u001b[0m\u001b[0;34m(\u001b[0m\u001b[0mop\u001b[0m\u001b[0;34m)\u001b[0m\u001b[0;34m\u001b[0m\u001b[0;34m\u001b[0m\u001b[0m\n\u001b[0m\u001b[1;32m     80\u001b[0m         \u001b[0;32mif\u001b[0m \u001b[0mlen\u001b[0m\u001b[0;34m(\u001b[0m\u001b[0mconverted\u001b[0m\u001b[0;34m)\u001b[0m \u001b[0;34m==\u001b[0m \u001b[0;36m1\u001b[0m \u001b[0;32mand\u001b[0m \u001b[0mconverted\u001b[0m\u001b[0;34m[\u001b[0m\u001b[0;36m0\u001b[0m\u001b[0;34m]\u001b[0m \u001b[0;32mis\u001b[0m \u001b[0mop\u001b[0m\u001b[0;34m:\u001b[0m\u001b[0;34m\u001b[0m\u001b[0;34m\u001b[0m\u001b[0m\n\u001b[1;32m     81\u001b[0m             \u001b[0;32mreturn\u001b[0m \u001b[0;32mNone\u001b[0m\u001b[0;34m\u001b[0m\u001b[0;34m\u001b[0m\u001b[0m\n",
      "\u001b[0;32m~/miniconda3/envs/myenv/lib/python3.7/site-packages/cirq/google/convert_to_xmon_gates.py\u001b[0m in \u001b[0;36mconvert\u001b[0;34m(self, op)\u001b[0m\n\u001b[1;32m     74\u001b[0m             \u001b[0mkeep\u001b[0m\u001b[0;34m=\u001b[0m\u001b[0mprograms\u001b[0m\u001b[0;34m.\u001b[0m\u001b[0mis_native_xmon_op\u001b[0m\u001b[0;34m,\u001b[0m\u001b[0;34m\u001b[0m\u001b[0;34m\u001b[0m\u001b[0m\n\u001b[1;32m     75\u001b[0m             \u001b[0mintercepting_decomposer\u001b[0m\u001b[0;34m=\u001b[0m\u001b[0mself\u001b[0m\u001b[0;34m.\u001b[0m\u001b[0m_convert_one\u001b[0m\u001b[0;34m,\u001b[0m\u001b[0;34m\u001b[0m\u001b[0;34m\u001b[0m\u001b[0m\n\u001b[0;32m---> 76\u001b[0;31m             on_stuck_raise=None if self.ignore_failures else on_stuck_raise)\n\u001b[0m\u001b[1;32m     77\u001b[0m \u001b[0;34m\u001b[0m\u001b[0m\n\u001b[1;32m     78\u001b[0m     \u001b[0;32mdef\u001b[0m \u001b[0moptimization_at\u001b[0m\u001b[0;34m(\u001b[0m\u001b[0mself\u001b[0m\u001b[0;34m,\u001b[0m \u001b[0mcircuit\u001b[0m\u001b[0;34m,\u001b[0m \u001b[0mindex\u001b[0m\u001b[0;34m,\u001b[0m \u001b[0mop\u001b[0m\u001b[0;34m)\u001b[0m\u001b[0;34m:\u001b[0m\u001b[0;34m\u001b[0m\u001b[0;34m\u001b[0m\u001b[0m\n",
      "\u001b[0;32m~/miniconda3/envs/myenv/lib/python3.7/site-packages/cirq/protocols/decompose.py\u001b[0m in \u001b[0;36mdecompose\u001b[0;34m(val, intercepting_decomposer, fallback_decomposer, keep, on_stuck_raise)\u001b[0m\n\u001b[1;32m    223\u001b[0m             \u001b[0;32mcontinue\u001b[0m\u001b[0;34m\u001b[0m\u001b[0;34m\u001b[0m\u001b[0m\n\u001b[1;32m    224\u001b[0m \u001b[0;34m\u001b[0m\u001b[0m\n\u001b[0;32m--> 225\u001b[0;31m         \u001b[0mdecomposed\u001b[0m \u001b[0;34m=\u001b[0m \u001b[0mdecomposer\u001b[0m\u001b[0;34m(\u001b[0m\u001b[0mitem\u001b[0m\u001b[0;34m)\u001b[0m\u001b[0;34m\u001b[0m\u001b[0;34m\u001b[0m\u001b[0m\n\u001b[0m\u001b[1;32m    226\u001b[0m         \u001b[0;32mif\u001b[0m \u001b[0mdecomposed\u001b[0m \u001b[0;32mis\u001b[0m \u001b[0;32mnot\u001b[0m \u001b[0mNotImplemented\u001b[0m \u001b[0;32mand\u001b[0m \u001b[0mdecomposed\u001b[0m \u001b[0;32mis\u001b[0m \u001b[0;32mnot\u001b[0m \u001b[0;32mNone\u001b[0m\u001b[0;34m:\u001b[0m\u001b[0;34m\u001b[0m\u001b[0;34m\u001b[0m\u001b[0m\n\u001b[1;32m    227\u001b[0m             \u001b[0mqueue\u001b[0m\u001b[0;34m[\u001b[0m\u001b[0;34m:\u001b[0m\u001b[0;36m0\u001b[0m\u001b[0;34m]\u001b[0m \u001b[0;34m=\u001b[0m \u001b[0mops\u001b[0m\u001b[0;34m.\u001b[0m\u001b[0mflatten_op_tree\u001b[0m\u001b[0;34m(\u001b[0m\u001b[0mdecomposed\u001b[0m\u001b[0;34m)\u001b[0m\u001b[0;34m\u001b[0m\u001b[0;34m\u001b[0m\u001b[0m\n",
      "\u001b[0;32m~/miniconda3/envs/myenv/lib/python3.7/site-packages/cirq/protocols/decompose.py\u001b[0m in \u001b[0;36mdecomposer\u001b[0;34m(op)\u001b[0m\n\u001b[1;32m    209\u001b[0m     \u001b[0;32mdef\u001b[0m \u001b[0mdecomposer\u001b[0m\u001b[0;34m(\u001b[0m\u001b[0mop\u001b[0m\u001b[0;34m)\u001b[0m\u001b[0;34m:\u001b[0m\u001b[0;34m\u001b[0m\u001b[0;34m\u001b[0m\u001b[0m\n\u001b[1;32m    210\u001b[0m         \u001b[0;32mfor\u001b[0m \u001b[0md\u001b[0m \u001b[0;32min\u001b[0m \u001b[0mdecomposers\u001b[0m\u001b[0;34m:\u001b[0m\u001b[0;34m\u001b[0m\u001b[0;34m\u001b[0m\u001b[0m\n\u001b[0;32m--> 211\u001b[0;31m             \u001b[0mr\u001b[0m \u001b[0;34m=\u001b[0m \u001b[0md\u001b[0m\u001b[0;34m(\u001b[0m\u001b[0mop\u001b[0m\u001b[0;34m)\u001b[0m\u001b[0;34m\u001b[0m\u001b[0;34m\u001b[0m\u001b[0m\n\u001b[0m\u001b[1;32m    212\u001b[0m             \u001b[0;32mif\u001b[0m \u001b[0mr\u001b[0m \u001b[0;32mis\u001b[0m \u001b[0;32mnot\u001b[0m \u001b[0mNotImplemented\u001b[0m \u001b[0;32mand\u001b[0m \u001b[0mr\u001b[0m \u001b[0;32mis\u001b[0m \u001b[0;32mnot\u001b[0m \u001b[0;32mNone\u001b[0m\u001b[0;34m:\u001b[0m\u001b[0;34m\u001b[0m\u001b[0;34m\u001b[0m\u001b[0m\n\u001b[1;32m    213\u001b[0m                 \u001b[0;32mreturn\u001b[0m \u001b[0mr\u001b[0m\u001b[0;34m\u001b[0m\u001b[0;34m\u001b[0m\u001b[0m\n",
      "\u001b[0;32m~/miniconda3/envs/myenv/lib/python3.7/site-packages/cirq/google/convert_to_xmon_gates.py\u001b[0m in \u001b[0;36m_convert_one\u001b[0;34m(self, op)\u001b[0m\n\u001b[1;32m     58\u001b[0m                 \u001b[0mop\u001b[0m\u001b[0;34m.\u001b[0m\u001b[0mqubits\u001b[0m\u001b[0;34m[\u001b[0m\u001b[0;36m1\u001b[0m\u001b[0;34m]\u001b[0m\u001b[0;34m,\u001b[0m\u001b[0;34m\u001b[0m\u001b[0;34m\u001b[0m\u001b[0m\n\u001b[1;32m     59\u001b[0m                 \u001b[0mmat\u001b[0m\u001b[0;34m,\u001b[0m\u001b[0;34m\u001b[0m\u001b[0;34m\u001b[0m\u001b[0m\n\u001b[0;32m---> 60\u001b[0;31m                 allow_partial_czs=True)\n\u001b[0m\u001b[1;32m     61\u001b[0m \u001b[0;34m\u001b[0m\u001b[0m\n\u001b[1;32m     62\u001b[0m         \u001b[0;32mreturn\u001b[0m \u001b[0mNotImplemented\u001b[0m\u001b[0;34m\u001b[0m\u001b[0;34m\u001b[0m\u001b[0m\n",
      "\u001b[0;32m~/miniconda3/envs/myenv/lib/python3.7/site-packages/cirq/optimizers/two_qubit_decompositions.py\u001b[0m in \u001b[0;36mtwo_qubit_matrix_to_operations\u001b[0;34m(q0, q1, mat, allow_partial_czs, tolerance)\u001b[0m\n\u001b[1;32m     49\u001b[0m     \u001b[0mkak\u001b[0m \u001b[0;34m=\u001b[0m \u001b[0mlinalg\u001b[0m\u001b[0;34m.\u001b[0m\u001b[0mkak_decomposition\u001b[0m\u001b[0;34m(\u001b[0m\u001b[0mmat\u001b[0m\u001b[0;34m,\u001b[0m \u001b[0mlinalg\u001b[0m\u001b[0;34m.\u001b[0m\u001b[0mTolerance\u001b[0m\u001b[0;34m(\u001b[0m\u001b[0matol\u001b[0m\u001b[0;34m=\u001b[0m\u001b[0mtolerance\u001b[0m\u001b[0;34m)\u001b[0m\u001b[0;34m)\u001b[0m\u001b[0;34m\u001b[0m\u001b[0;34m\u001b[0m\u001b[0m\n\u001b[1;32m     50\u001b[0m     operations = _kak_decomposition_to_operations(\n\u001b[0;32m---> 51\u001b[0;31m         q0, q1, kak, allow_partial_czs, tolerance)\n\u001b[0m\u001b[1;32m     52\u001b[0m     \u001b[0;32mreturn\u001b[0m \u001b[0m_cleanup_operations\u001b[0m\u001b[0;34m(\u001b[0m\u001b[0moperations\u001b[0m\u001b[0;34m)\u001b[0m\u001b[0;34m\u001b[0m\u001b[0;34m\u001b[0m\u001b[0m\n\u001b[1;32m     53\u001b[0m \u001b[0;34m\u001b[0m\u001b[0m\n",
      "\u001b[0;32m~/miniconda3/envs/myenv/lib/python3.7/site-packages/cirq/optimizers/two_qubit_decompositions.py\u001b[0m in \u001b[0;36m_kak_decomposition_to_operations\u001b[0;34m(q0, q1, kak, allow_partial_czs, tolerance)\u001b[0m\n\u001b[1;32m    136\u001b[0m                         \u001b[0mallow_partial_czs\u001b[0m\u001b[0;34m,\u001b[0m\u001b[0;34m\u001b[0m\u001b[0;34m\u001b[0m\u001b[0m\n\u001b[1;32m    137\u001b[0m                         tolerance),\n\u001b[0;32m--> 138\u001b[0;31m         \u001b[0mpost\u001b[0m\u001b[0;34m,\u001b[0m\u001b[0;34m\u001b[0m\u001b[0;34m\u001b[0m\u001b[0m\n\u001b[0m\u001b[1;32m    139\u001b[0m     ]))\n\u001b[1;32m    140\u001b[0m \u001b[0;34m\u001b[0m\u001b[0m\n",
      "\u001b[0;32m~/miniconda3/envs/myenv/lib/python3.7/site-packages/cirq/ops/op_tree.py\u001b[0m in \u001b[0;36mflatten_op_tree\u001b[0;34m(root)\u001b[0m\n\u001b[1;32m     63\u001b[0m     \u001b[0;32mif\u001b[0m \u001b[0misinstance\u001b[0m\u001b[0;34m(\u001b[0m\u001b[0mroot\u001b[0m\u001b[0;34m,\u001b[0m \u001b[0mcollections\u001b[0m\u001b[0;34m.\u001b[0m\u001b[0mIterable\u001b[0m\u001b[0;34m)\u001b[0m\u001b[0;34m:\u001b[0m\u001b[0;34m\u001b[0m\u001b[0;34m\u001b[0m\u001b[0m\n\u001b[1;32m     64\u001b[0m         \u001b[0;32mfor\u001b[0m \u001b[0msubtree\u001b[0m \u001b[0;32min\u001b[0m \u001b[0mroot\u001b[0m\u001b[0;34m:\u001b[0m\u001b[0;34m\u001b[0m\u001b[0;34m\u001b[0m\u001b[0m\n\u001b[0;32m---> 65\u001b[0;31m             \u001b[0;32mfor\u001b[0m \u001b[0mitem\u001b[0m \u001b[0;32min\u001b[0m \u001b[0mflatten_op_tree\u001b[0m\u001b[0;34m(\u001b[0m\u001b[0msubtree\u001b[0m\u001b[0;34m)\u001b[0m\u001b[0;34m:\u001b[0m\u001b[0;34m\u001b[0m\u001b[0;34m\u001b[0m\u001b[0m\n\u001b[0m\u001b[1;32m     66\u001b[0m                 \u001b[0;32myield\u001b[0m \u001b[0mitem\u001b[0m\u001b[0;34m\u001b[0m\u001b[0;34m\u001b[0m\u001b[0m\n\u001b[1;32m     67\u001b[0m         \u001b[0;32mreturn\u001b[0m\u001b[0;34m\u001b[0m\u001b[0;34m\u001b[0m\u001b[0m\n",
      "\u001b[0;32m~/miniconda3/envs/myenv/lib/python3.7/site-packages/cirq/ops/op_tree.py\u001b[0m in \u001b[0;36mflatten_op_tree\u001b[0;34m(root)\u001b[0m\n\u001b[1;32m     63\u001b[0m     \u001b[0;32mif\u001b[0m \u001b[0misinstance\u001b[0m\u001b[0;34m(\u001b[0m\u001b[0mroot\u001b[0m\u001b[0;34m,\u001b[0m \u001b[0mcollections\u001b[0m\u001b[0;34m.\u001b[0m\u001b[0mIterable\u001b[0m\u001b[0;34m)\u001b[0m\u001b[0;34m:\u001b[0m\u001b[0;34m\u001b[0m\u001b[0;34m\u001b[0m\u001b[0m\n\u001b[1;32m     64\u001b[0m         \u001b[0;32mfor\u001b[0m \u001b[0msubtree\u001b[0m \u001b[0;32min\u001b[0m \u001b[0mroot\u001b[0m\u001b[0;34m:\u001b[0m\u001b[0;34m\u001b[0m\u001b[0;34m\u001b[0m\u001b[0m\n\u001b[0;32m---> 65\u001b[0;31m             \u001b[0;32mfor\u001b[0m \u001b[0mitem\u001b[0m \u001b[0;32min\u001b[0m \u001b[0mflatten_op_tree\u001b[0m\u001b[0;34m(\u001b[0m\u001b[0msubtree\u001b[0m\u001b[0;34m)\u001b[0m\u001b[0;34m:\u001b[0m\u001b[0;34m\u001b[0m\u001b[0;34m\u001b[0m\u001b[0m\n\u001b[0m\u001b[1;32m     66\u001b[0m                 \u001b[0;32myield\u001b[0m \u001b[0mitem\u001b[0m\u001b[0;34m\u001b[0m\u001b[0;34m\u001b[0m\u001b[0m\n\u001b[1;32m     67\u001b[0m         \u001b[0;32mreturn\u001b[0m\u001b[0;34m\u001b[0m\u001b[0;34m\u001b[0m\u001b[0m\n",
      "\u001b[0;32m~/miniconda3/envs/myenv/lib/python3.7/site-packages/cirq/ops/op_tree.py\u001b[0m in \u001b[0;36mflatten_op_tree\u001b[0;34m(root)\u001b[0m\n\u001b[1;32m     62\u001b[0m \u001b[0;34m\u001b[0m\u001b[0m\n\u001b[1;32m     63\u001b[0m     \u001b[0;32mif\u001b[0m \u001b[0misinstance\u001b[0m\u001b[0;34m(\u001b[0m\u001b[0mroot\u001b[0m\u001b[0;34m,\u001b[0m \u001b[0mcollections\u001b[0m\u001b[0;34m.\u001b[0m\u001b[0mIterable\u001b[0m\u001b[0;34m)\u001b[0m\u001b[0;34m:\u001b[0m\u001b[0;34m\u001b[0m\u001b[0;34m\u001b[0m\u001b[0m\n\u001b[0;32m---> 64\u001b[0;31m         \u001b[0;32mfor\u001b[0m \u001b[0msubtree\u001b[0m \u001b[0;32min\u001b[0m \u001b[0mroot\u001b[0m\u001b[0;34m:\u001b[0m\u001b[0;34m\u001b[0m\u001b[0;34m\u001b[0m\u001b[0m\n\u001b[0m\u001b[1;32m     65\u001b[0m             \u001b[0;32mfor\u001b[0m \u001b[0mitem\u001b[0m \u001b[0;32min\u001b[0m \u001b[0mflatten_op_tree\u001b[0m\u001b[0;34m(\u001b[0m\u001b[0msubtree\u001b[0m\u001b[0;34m)\u001b[0m\u001b[0;34m:\u001b[0m\u001b[0;34m\u001b[0m\u001b[0;34m\u001b[0m\u001b[0m\n\u001b[1;32m     66\u001b[0m                 \u001b[0;32myield\u001b[0m \u001b[0mitem\u001b[0m\u001b[0;34m\u001b[0m\u001b[0;34m\u001b[0m\u001b[0m\n",
      "\u001b[0;32m~/miniconda3/envs/myenv/lib/python3.7/site-packages/cirq/optimizers/two_qubit_decompositions.py\u001b[0m in \u001b[0;36m_parity_interaction\u001b[0;34m(q0, q1, rads, tolerance, gate)\u001b[0m\n\u001b[1;32m    170\u001b[0m         \u001b[0;32myield\u001b[0m \u001b[0mops\u001b[0m\u001b[0;34m.\u001b[0m\u001b[0mCZ\u001b[0m\u001b[0;34m(\u001b[0m\u001b[0mq0\u001b[0m\u001b[0;34m,\u001b[0m \u001b[0mq1\u001b[0m\u001b[0;34m)\u001b[0m \u001b[0;34m**\u001b[0m \u001b[0;34m(\u001b[0m\u001b[0;34m-\u001b[0m\u001b[0;36m2\u001b[0m \u001b[0;34m*\u001b[0m \u001b[0mh\u001b[0m\u001b[0;34m)\u001b[0m\u001b[0;34m\u001b[0m\u001b[0;34m\u001b[0m\u001b[0m\n\u001b[1;32m    171\u001b[0m \u001b[0;34m\u001b[0m\u001b[0m\n\u001b[0;32m--> 172\u001b[0;31m     \u001b[0;32myield\u001b[0m \u001b[0mops\u001b[0m\u001b[0;34m.\u001b[0m\u001b[0mZ\u001b[0m\u001b[0;34m(\u001b[0m\u001b[0mq0\u001b[0m\u001b[0;34m)\u001b[0m\u001b[0;34m**\u001b[0m\u001b[0mh\u001b[0m\u001b[0;34m\u001b[0m\u001b[0;34m\u001b[0m\u001b[0m\n\u001b[0m\u001b[1;32m    173\u001b[0m     \u001b[0;32myield\u001b[0m \u001b[0mops\u001b[0m\u001b[0;34m.\u001b[0m\u001b[0mZ\u001b[0m\u001b[0;34m(\u001b[0m\u001b[0mq1\u001b[0m\u001b[0;34m)\u001b[0m\u001b[0;34m**\u001b[0m\u001b[0mh\u001b[0m\u001b[0;34m\u001b[0m\u001b[0;34m\u001b[0m\u001b[0m\n\u001b[1;32m    174\u001b[0m     \u001b[0;32mif\u001b[0m \u001b[0mgate\u001b[0m \u001b[0;32mis\u001b[0m \u001b[0;32mnot\u001b[0m \u001b[0;32mNone\u001b[0m\u001b[0;34m:\u001b[0m\u001b[0;34m\u001b[0m\u001b[0;34m\u001b[0m\u001b[0m\n",
      "\u001b[0;32m~/miniconda3/envs/myenv/lib/python3.7/site-packages/cirq/ops/raw_types.py\u001b[0m in \u001b[0;36m__call__\u001b[0;34m(self, *args, **kwargs)\u001b[0m\n\u001b[1;32m    122\u001b[0m \u001b[0;34m\u001b[0m\u001b[0m\n\u001b[1;32m    123\u001b[0m     \u001b[0;32mdef\u001b[0m \u001b[0m__call__\u001b[0m\u001b[0;34m(\u001b[0m\u001b[0mself\u001b[0m\u001b[0;34m,\u001b[0m \u001b[0;34m*\u001b[0m\u001b[0margs\u001b[0m\u001b[0;34m,\u001b[0m \u001b[0;34m**\u001b[0m\u001b[0mkwargs\u001b[0m\u001b[0;34m)\u001b[0m\u001b[0;34m:\u001b[0m\u001b[0;34m\u001b[0m\u001b[0;34m\u001b[0m\u001b[0m\n\u001b[0;32m--> 124\u001b[0;31m         \u001b[0;32mreturn\u001b[0m \u001b[0mself\u001b[0m\u001b[0;34m.\u001b[0m\u001b[0mon\u001b[0m\u001b[0;34m(\u001b[0m\u001b[0;34m*\u001b[0m\u001b[0margs\u001b[0m\u001b[0;34m,\u001b[0m \u001b[0;34m**\u001b[0m\u001b[0mkwargs\u001b[0m\u001b[0;34m)\u001b[0m\u001b[0;34m\u001b[0m\u001b[0;34m\u001b[0m\u001b[0m\n\u001b[0m\u001b[1;32m    125\u001b[0m \u001b[0;34m\u001b[0m\u001b[0m\n\u001b[1;32m    126\u001b[0m \u001b[0;34m\u001b[0m\u001b[0m\n",
      "\u001b[0;32m~/miniconda3/envs/myenv/lib/python3.7/site-packages/cirq/ops/raw_types.py\u001b[0m in \u001b[0;36mon\u001b[0;34m(self, *qubits)\u001b[0m\n\u001b[1;32m    112\u001b[0m         \"\"\"\n\u001b[1;32m    113\u001b[0m         \u001b[0;31m# Avoids circular import.\u001b[0m\u001b[0;34m\u001b[0m\u001b[0;34m\u001b[0m\u001b[0;34m\u001b[0m\u001b[0m\n\u001b[0;32m--> 114\u001b[0;31m         \u001b[0;32mfrom\u001b[0m \u001b[0mcirq\u001b[0m\u001b[0;34m.\u001b[0m\u001b[0mops\u001b[0m \u001b[0;32mimport\u001b[0m \u001b[0mgate_operation\u001b[0m\u001b[0;34m\u001b[0m\u001b[0;34m\u001b[0m\u001b[0m\n\u001b[0m\u001b[1;32m    115\u001b[0m \u001b[0;34m\u001b[0m\u001b[0m\n\u001b[1;32m    116\u001b[0m         \u001b[0;32mif\u001b[0m \u001b[0mlen\u001b[0m\u001b[0;34m(\u001b[0m\u001b[0mqubits\u001b[0m\u001b[0;34m)\u001b[0m \u001b[0;34m==\u001b[0m \u001b[0;36m0\u001b[0m\u001b[0;34m:\u001b[0m\u001b[0;34m\u001b[0m\u001b[0;34m\u001b[0m\u001b[0m\n",
      "\u001b[0;32m~/miniconda3/envs/myenv/lib/python3.7/importlib/_bootstrap.py\u001b[0m in \u001b[0;36m_handle_fromlist\u001b[0;34m(module, fromlist, import_, recursive)\u001b[0m\n",
      "\u001b[0;31mKeyboardInterrupt\u001b[0m: "
     ]
    }
   ],
   "source": [
    "xs = gd(f, randn(8), 0.1)"
   ]
  },
  {
   "cell_type": "code",
   "execution_count": null,
   "metadata": {},
   "outputs": [],
   "source": [
    "ys = gd(qobj, randn(8), 0.1)"
   ]
  },
  {
   "cell_type": "code",
   "execution_count": null,
   "metadata": {},
   "outputs": [],
   "source": [
    "svals(mat(xs[-1]))"
   ]
  },
  {
   "cell_type": "code",
   "execution_count": null,
   "metadata": {},
   "outputs": [],
   "source": [
    "svals(mat(ys[-1]))"
   ]
  },
  {
   "cell_type": "code",
   "execution_count": 405,
   "metadata": {},
   "outputs": [],
   "source": [
    "C = [LineQubit(0), LineQubit(1)]\n",
    "u = TwoQubitMatrixGate(qr(randn(4, 4))[0])(*C)\n",
    "c = Circuit()\n",
    "c.append(u)"
   ]
  },
  {
   "cell_type": "code",
   "execution_count": 406,
   "metadata": {},
   "outputs": [],
   "source": [
    "cirq.google.ConvertToXmonGates()(c)"
   ]
  },
  {
   "cell_type": "code",
   "execution_count": 407,
   "metadata": {},
   "outputs": [
    {
     "data": {
      "text/html": [
       "<pre style=\"overflow: auto; white-space: pre;\">0: ───Y^0.194───@───Y^0.5────@─────────PhasedX(-0.629)^0.5───@──────────PhasedX(0.632)^0.5──────Z^0.368────\n",
       "                │            │                               │\n",
       "1: ───Y^0.573───@───X^-0.5───@^0.742───PhasedX(-0.129)^0.5───@^-0.677───PhasedX(-0.967)^0.935───Z^(7/15)───</pre>"
      ],
      "text/plain": [
       "0: ───Y^0.194───@───Y^0.5────@─────────PhasedX(-0.629)^0.5───@──────────PhasedX(0.632)^0.5──────Z^0.368────\n",
       "                │            │                               │\n",
       "1: ───Y^0.573───@───X^-0.5───@^0.742───PhasedX(-0.129)^0.5───@^-0.677───PhasedX(-0.967)^0.935───Z^(7/15)───"
      ]
     },
     "execution_count": 407,
     "metadata": {},
     "output_type": "execute_result"
    }
   ],
   "source": [
    "c"
   ]
  },
  {
   "cell_type": "code",
   "execution_count": null,
   "metadata": {},
   "outputs": [],
   "source": []
  },
  {
   "cell_type": "code",
   "execution_count": null,
   "metadata": {},
   "outputs": [],
   "source": []
  },
  {
   "cell_type": "code",
   "execution_count": null,
   "metadata": {},
   "outputs": [],
   "source": []
  }
 ],
 "metadata": {
  "kernelspec": {
   "display_name": "Python 3",
   "language": "python",
   "name": "python3"
  },
  "language_info": {
   "codemirror_mode": {
    "name": "ipython",
    "version": 3
   },
   "file_extension": ".py",
   "mimetype": "text/x-python",
   "name": "python",
   "nbconvert_exporter": "python",
   "pygments_lexer": "ipython3",
   "version": "3.7.2"
  }
 },
 "nbformat": 4,
 "nbformat_minor": 2
}
