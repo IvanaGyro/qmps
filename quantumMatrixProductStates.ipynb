{
 "cells": [
  {
   "cell_type": "code",
   "execution_count": 2,
   "metadata": {
    "collapsed": false,
    "deletable": true,
    "editable": true
   },
   "outputs": [
    {
     "ename": "ModuleNotFoundError",
     "evalue": "No module named 'cirq'",
     "output_type": "error",
     "traceback": [
      "\u001b[0;31m---------------------------------------\u001b[0m",
      "\u001b[0;31mModuleNotFoundError\u001b[0mTraceback (most recent call last)",
      "\u001b[0;32m<ipython-input-2-22804769d7e9>\u001b[0m in \u001b[0;36m<module>\u001b[0;34m()\u001b[0m\n\u001b[1;32m      1\u001b[0m \u001b[0mget_ipython\u001b[0m\u001b[0;34m(\u001b[0m\u001b[0;34m)\u001b[0m\u001b[0;34m.\u001b[0m\u001b[0mmagic\u001b[0m\u001b[0;34m(\u001b[0m\u001b[0;34m'matplotlib inline'\u001b[0m\u001b[0;34m)\u001b[0m\u001b[0;34m\u001b[0m\u001b[0m\n\u001b[0;32m----> 2\u001b[0;31m \u001b[0;32mimport\u001b[0m \u001b[0mcirq\u001b[0m \u001b[0;32mas\u001b[0m \u001b[0mcirq\u001b[0m\u001b[0;34m\u001b[0m\u001b[0m\n\u001b[0m\u001b[1;32m      3\u001b[0m \u001b[0;32mimport\u001b[0m \u001b[0mnumpy\u001b[0m \u001b[0;32mas\u001b[0m \u001b[0mnp\u001b[0m\u001b[0;34m\u001b[0m\u001b[0m\n\u001b[1;32m      4\u001b[0m \u001b[0;32mimport\u001b[0m \u001b[0mmatplotlib\u001b[0m\u001b[0;34m.\u001b[0m\u001b[0mpyplot\u001b[0m \u001b[0;32mas\u001b[0m \u001b[0mplt\u001b[0m\u001b[0;34m\u001b[0m\u001b[0m\n",
      "\u001b[0;31mModuleNotFoundError\u001b[0m: No module named 'cirq'"
     ]
    }
   ],
   "source": [
    "%matplotlib inline\n",
    "import cirq as cirq\n",
    "import numpy as np\n",
    "import matplotlib.pyplot as plt"
   ]
  },
  {
   "cell_type": "markdown",
   "metadata": {
    "deletable": true,
    "editable": true
   },
   "source": [
    "# quantumMatrixProductStates\n",
    "This notebook walks through how we represent, optimise, and time evolve uniform matrix product states on a NISQ quantum computer. It depends on xmps, a matrix product state library available at https://github.com/fergusbarratt/xmps, and Cirq, google's quantum programming language"
   ]
  },
  {
   "cell_type": "markdown",
   "metadata": {
    "deletable": true,
    "editable": true
   },
   "source": [
    "## Intro to uniform Matrix Product States"
   ]
  },
  {
   "cell_type": "markdown",
   "metadata": {
    "deletable": true,
    "editable": true
   },
   "source": [
    "An uniform matrix product state in right canonical form can be represented by a single repeated tensor"
   ]
  },
  {
   "cell_type": "code",
   "execution_count": null,
   "metadata": {
    "collapsed": true,
    "deletable": true,
    "editable": true
   },
   "outputs": [],
   "source": [
    "\"\"\"\n",
    "...--A--A--A--A--A--A--...\n",
    "  |  |  |  |  |  |\n",
    "\"\"\";"
   ]
  },
  {
   "cell_type": "markdown",
   "metadata": {
    "deletable": true,
    "editable": true
   },
   "source": [
    "Since we can put the above into left canonical form by a gauge transformation, the expectation value of any local observable can be expressed as follows"
   ]
  },
  {
   "cell_type": "code",
   "execution_count": null,
   "metadata": {
    "collapsed": true,
    "deletable": true,
    "editable": true
   },
   "outputs": [],
   "source": [
    "\"\"\"\n",
    "         --A--...--A--\n",
    "        |  |       |  |\n",
    "<O>   = |  ----O----  r\n",
    "        |  |       |  |\n",
    "         --A--...--A--\n",
    "\n",
    "\"\"\";"
   ]
  },
  {
   "cell_type": "markdown",
   "metadata": {
    "deletable": true,
    "editable": true
   },
   "source": [
    "Where r is the largest right eigenvector of the transfer matrix"
   ]
  },
  {
   "cell_type": "code",
   "execution_count": null,
   "metadata": {
    "collapsed": true,
    "deletable": true,
    "editable": true
   },
   "outputs": [],
   "source": [
    "\"\"\"\n",
    "--A--    ---\n",
    "  |  |      |\n",
    "  |  r =    r\n",
    "  |  |      |\n",
    "--A--    ---\n",
    "\n",
    "\"\"\";"
   ]
  },
  {
   "cell_type": "markdown",
   "metadata": {
    "deletable": true,
    "editable": true
   },
   "source": [
    "## Representation"
   ]
  },
  {
   "cell_type": "markdown",
   "metadata": {
    "deletable": true,
    "editable": true
   },
   "source": [
    "In order to represent a uniform matrix product state of some bond dimension, two objects are sufficient\n",
    "\n",
    " - The state tensor A\n",
    " - The right eigenmatrix r\n",
    " \n",
    "The main idea of this paper is that these can be represented or determined efficiently on a quantum computer, and the resulting quantum state, representing the state of a infinite, TI quantum system, can be optimized and manipulated in an efficient manner."
   ]
  },
  {
   "cell_type": "markdown",
   "metadata": {
    "deletable": true,
    "editable": true
   },
   "source": [
    "#### State Tensor"
   ]
  },
  {
   "cell_type": "markdown",
   "metadata": {
    "deletable": true,
    "editable": true
   },
   "source": [
    "The A tensor of a matrix product state of bond dimension D can be represented on $\\log_2(D)+1$ qubits as follows"
   ]
  },
  {
   "cell_type": "code",
   "execution_count": 3,
   "metadata": {
    "collapsed": true,
    "deletable": true,
    "editable": true
   },
   "outputs": [],
   "source": [
    "\"\"\"       \n",
    "            |0>|0>...|0>|0>\n",
    "               \\    j     /\n",
    "i--A--j  =   |  |   ...  |\n",
    "   |         -------------\n",
    "   σ               U\n",
    "             -------------\n",
    "             |   ...  |  | \n",
    "            /    i     \\/σ\\\n",
    "              \\log_2(D)  +1\n",
    "\"\"\";"
   ]
  },
  {
   "cell_type": "markdown",
   "metadata": {
    "deletable": true,
    "editable": true
   },
   "source": [
    "Where we assume that the state unitary $U$ can be efficiently represented on a quantum computer.\n",
    "In code this is represented by the\n",
    "`\n",
    "StateTensor\n",
    "`\n",
    "object."
   ]
  },
  {
   "cell_type": "markdown",
   "metadata": {
    "deletable": true,
    "editable": true
   },
   "source": [
    "#### Environment"
   ]
  },
  {
   "cell_type": "markdown",
   "metadata": {
    "deletable": true,
    "editable": true
   },
   "source": [
    "The environment tensor is embedded in a unitary $V$ as follows"
   ]
  },
  {
   "cell_type": "code",
   "execution_count": 4,
   "metadata": {
    "collapsed": true,
    "deletable": true,
    "editable": true
   },
   "outputs": [],
   "source": [
    "\"\"\"\n",
    "            |0>|0>...|0>|0>\n",
    "i--r--j  =   |  | ... |  |\n",
    "             -------------\n",
    "                   v\n",
    "             -------------\n",
    "             |  | ... |  | \n",
    "            /      \\/     \\\n",
    "           \\log_2(D)\\log_2(D)\n",
    "\"\"\";"
   ]
  },
  {
   "cell_type": "markdown",
   "metadata": {
    "deletable": true,
    "editable": true
   },
   "source": [
    "Where we assume that the state unitary $V$ can be efficiently represented on a quantum computer.\n",
    "In code this is represented by the\n",
    "`\n",
    "Environment\n",
    "`\n",
    "object."
   ]
  },
  {
   "cell_type": "markdown",
   "metadata": {
    "deletable": true,
    "editable": true
   },
   "source": [
    "#### State"
   ]
  },
  {
   "cell_type": "markdown",
   "metadata": {
    "deletable": true,
    "editable": true
   },
   "source": [
    "All q-local observables of the infinite TI system can be obtained by measurements of corresponding pauli string on the following combination of $U$ and $V$ on the qubits marked $1 \\ldots q$"
   ]
  },
  {
   "cell_type": "code",
   "execution_count": 5,
   "metadata": {
    "collapsed": true,
    "deletable": true,
    "editable": true
   },
   "outputs": [],
   "source": [
    "\"\"\"\n",
    "         --A--...--A--\n",
    "        |  |       |  |\n",
    "<O>   = |  ----O----  r\n",
    "        |  |       |  |\n",
    "         --A--...--A--\n",
    "\n",
    "      =\n",
    "        |0>......................|0>\n",
    "         | | | ... | | ... || ... |\n",
    "         | | | ... | ---------------\n",
    "         | | | ... |        V         \n",
    "         | | | ... | ---------------           \n",
    "         | | | ... | | ... || ... |\n",
    "         | | | ... | | ... |\n",
    "         | | | ... ---------\n",
    "         | | | ...     U            \n",
    "         | | | ... ---------            \n",
    "         | | | ... | ... | | \n",
    "         | | | .........   q\n",
    "         | | | .........\n",
    "         | | | ... |\n",
    "         | ---------\n",
    "         |     U            \n",
    "         | ---------            \n",
    "         | | ... | | \n",
    "         | | ... | 2\n",
    "         ---------\n",
    "             U            \n",
    "         ---------            \n",
    "         | ... | | \n",
    "               1\n",
    "            \n",
    "\"\"\";"
   ]
  },
  {
   "cell_type": "markdown",
   "metadata": {
    "deletable": true,
    "editable": true
   },
   "source": [
    "and require the creation of a circuit on $(q+1)\\log_2(D)$ qubits.\n",
    "\n",
    "In code the `State` class is the combination of a `StateTensor` and `Environment` object, and takes q as an argument $q$."
   ]
  },
  {
   "cell_type": "code",
   "execution_count": null,
   "metadata": {
    "collapsed": true,
    "deletable": true,
    "editable": true
   },
   "outputs": [],
   "source": []
  },
  {
   "cell_type": "code",
   "execution_count": null,
   "metadata": {
    "collapsed": true
   },
   "outputs": [],
   "source": []
  }
 ],
 "metadata": {
  "kernelspec": {
   "display_name": "learn",
   "language": "python",
   "name": "learn"
  }
 },
 "nbformat": 4,
 "nbformat_minor": 2
}
