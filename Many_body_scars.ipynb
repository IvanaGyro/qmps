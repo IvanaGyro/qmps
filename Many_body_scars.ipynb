{
 "cells": [
  {
   "cell_type": "code",
   "execution_count": 2,
   "metadata": {},
   "outputs": [],
   "source": [
    "import qmps\n",
    "import xmps\n",
    "import cirq\n",
    "from xmps import iMPS\n",
    "import numpy as np\n",
    "def ap(A, _abs = True):\n",
    "    if _abs:\n",
    "        print(np.around(np.abs(A), 2))\n",
    "    else:\n",
    "        print(np.around(A, 2))"
   ]
  },
  {
   "cell_type": "code",
   "execution_count": 3,
   "metadata": {},
   "outputs": [
    {
     "data": {
      "text/plain": [
       "array([[0., 1., 0., 0.],\n",
       "       [0., 0., 0., 1.],\n",
       "       [0., 0., 1., 0.],\n",
       "       [1., 0., 0., 0.]])"
      ]
     },
     "execution_count": 3,
     "metadata": {},
     "output_type": "execute_result"
    }
   ],
   "source": [
    "# Initial State |ψ> = |0101010...>\n",
    "# transfer matrix looks like ;\n",
    "# A[σ, i, j] = [σᵃ, σᵇ] where σᵃ & σᵇ = |0X1| & |1X0| respectively \n",
    "\n",
    "A = np.random.randn(2,2,2)\n",
    "A[0,:,:] = np.array([[0,1], [0,0]])\n",
    "A[1,:,:] = np.array([[0,0], [1,0]])\n",
    "\n",
    "from qmps.tools import tensor_to_unitary, environment_to_unitary\n",
    "from qmps.represent import get_env_exact \n",
    "U = tensor_to_unitary(A)\n",
    "U"
   ]
  },
  {
   "cell_type": "code",
   "execution_count": 4,
   "metadata": {},
   "outputs": [
    {
     "data": {
      "text/plain": [
       "array([[ 0.70710678,  0.70710678,  0.        ,  0.        ],\n",
       "       [ 0.        ,  0.        ,  0.70710678,  0.70710678],\n",
       "       [ 0.        ,  0.        ,  0.70710678, -0.70710678],\n",
       "       [ 0.70710678, -0.70710678,  0.        ,  0.        ]])"
      ]
     },
     "execution_count": 4,
     "metadata": {},
     "output_type": "execute_result"
    }
   ],
   "source": [
    "V = 1/np.sqrt(2)*np.array([[1,1,0,0],[0,0,1,1],[0,0,1,-1],[1,-1,0,0]])\n",
    "V"
   ]
  },
  {
   "cell_type": "code",
   "execution_count": 5,
   "metadata": {},
   "outputs": [
    {
     "name": "stdout",
     "output_type": "stream",
     "text": [
      "0: ───────U───\n",
      "          │\n",
      "1: ───V───U───\n",
      "      │\n",
      "2: ───V───────\n",
      "-------------------------------------\n",
      "0: ───V───\n",
      "      │\n",
      "1: ───V───\n",
      "-------------------------------------\n",
      "[[0.49999997+0.j 0.        +0.j]\n",
      " [0.        +0.j 0.49999997+0.j]] \n",
      "\n",
      " [[0.49999997+0.j 0.        +0.j]\n",
      " [0.        +0.j 0.49999997+0.j]]\n"
     ]
    }
   ],
   "source": [
    "# Check that this analytical result hold in the simulator\n",
    "from qmps.represent import Tensor\n",
    "\n",
    "def simulate_state(gates, qubits, _print = False):\n",
    "    qbs = cirq.LineQubit.range(qubits)\n",
    "    circuit = cirq.Circuit.from_ops([gate(*qbs[-2:]) if i == 0 else gate(*qbs[-2-i:-i]) for i, gate in enumerate(gates)])\n",
    "    \n",
    "    if _print:\n",
    "        print(circuit)\n",
    "        \n",
    "    sim = cirq.Simulator()\n",
    "    res = sim.simulate(circuit)\n",
    "    density_matrix = res.density_matrix_of(qbs[0:1])\n",
    "    return density_matrix\n",
    "\n",
    "state = Tensor(U, \"U\")\n",
    "env = Tensor(V, \"V\")\n",
    "\n",
    "gates = [env, state]\n",
    "ρ_full = simulate_state(gates, 3, True)\n",
    "print(\"-------------------------------------\")\n",
    "gate = [env]\n",
    "ρ = simulate_state(gate, 2, True)\n",
    "print(\"-------------------------------------\")\n",
    "print(ρ_full, \"\\n\\n\", ρ)"
   ]
  },
  {
   "cell_type": "code",
   "execution_count": 6,
   "metadata": {},
   "outputs": [],
   "source": [
    "# Build the Hamiltonian for scar state evolution:\n",
    "from scipy.linalg import expm\n",
    "\n",
    "P = np.array([[1,0],[0,0]])\n",
    "X = np.array([[0,1],[1,0]])\n",
    "H = np.kron(np.kron(P,X),P)\n",
    "\n",
    "dt = 0.1\n",
    "W = Tensor(expm(-1j * H * dt), \"W\")\n",
    "\n"
   ]
  },
  {
   "cell_type": "code",
   "execution_count": 7,
   "metadata": {},
   "outputs": [],
   "source": [
    "def put_env_on_left_site(q, ret_n=False):\n",
    "    # Take a matrix q (2x2) and create U such that \n",
    "    # (right 0-|---|--0\n",
    "    #          | u |        =  q_{ij}\n",
    "    # (left) i-|---|--j \n",
    "    q = q.T\n",
    "    a, b, c, d = q.reshape(-1)\n",
    "    n = np.sqrt(np.abs(a)**2+ np.abs(c)**2+ np.abs(b)**2+ np.abs(d)**2)\n",
    "    guess = np.array([[a, c.conj(), b, d.conj()], [c, -a.conj(), d, -b.conj()]])/n\n",
    "    orth = null_space(guess).conj().T\n",
    "    A = np.concatenate([guess, orth], axis=0)\n",
    "    A = cirq.unitary(cirq.SWAP)@A\n",
    "    if ret_n:\n",
    "        return A, n\n",
    "    else:\n",
    "        return A\n",
    "def get_env_off_left_site(A):\n",
    "    z = np.array([1, 0])\n",
    "    return np.tensordot(np.tensordot(A.reshape(2, 2, 2, 2), z, [3, 0]), z, [1, 0]).T\n",
    "\n",
    "def put_env_on_right_site(q, ret_n=False):\n",
    "    q = q\n",
    "    a, b, c, d = q.reshape(-1)\n",
    "    n = np.sqrt(np.abs(a)**2+ np.abs(c)**2+ np.abs(b)**2+ np.abs(d)**2)\n",
    "    guess = np.array([[a, b, d.conj(), -c.conj()], [c, d, -b.conj(), a.conj()]])/n\n",
    "    orth = null_space(guess).conj().T\n",
    "    A = np.concatenate([guess, orth], axis=0)\n",
    "    #A = cirq.unitary(cirq.SWAP)@A\n",
    "    if ret_n:\n",
    "        return A, n\n",
    "    else:\n",
    "        return A\n",
    "\n",
    "def get_env_off_right_site(A):\n",
    "    z = np.array([1, 0])\n",
    "    return np.tensordot(np.tensordot(A.reshape(2, 2, 2, 2), z, [2, 0]), z, [0, 0])\n",
    "\n"
   ]
  },
  {
   "cell_type": "code",
   "execution_count": 21,
   "metadata": {},
   "outputs": [
    {
     "data": {
      "text/plain": [
       "0.23958638310432434"
      ]
     },
     "execution_count": 21,
     "metadata": {},
     "output_type": "execute_result"
    }
   ],
   "source": [
    "from qmps.represent import FullStateTensor, FullEnvironment, get_env_exact, Environment\n",
    "from qmps.tools import unitary_to_tensor, environment_from_unitary, tensor_to_unitary\n",
    "from xmps.spin import U4\n",
    "from xmps.iMPS import Map, iMPS\n",
    "from qmps.time_evolve_tools import merge, put_env_on_left_site, put_env_on_right_site\n",
    "\n",
    "def sim_overlap(params, A, W):\n",
    "    \n",
    "    U_ = FullStateTensor(U4(params))\n",
    "    A_ = unitary_to_tensor(U4(params))\n",
    "    U = FullStateTensor(tensor_to_unitary(A))\n",
    "    \n",
    "    _, r = Map(A,A_).right_fixed_point()\n",
    "    \n",
    "    R = Environment(put_env_on_left_site(r), 'θR')\n",
    "    left = put_env_on_right_site(r.conj().T)\n",
    "    L = Environment(left, 'θL')\n",
    "\n",
    "    q = cirq.LineQubit.range(7)\n",
    "\n",
    "    circuit = cirq.Circuit.from_ops([\n",
    "        cirq.H(q[4]),\n",
    "        cirq.CNOT(q[4], q[5]),\n",
    "        U(*q[3:5]),\n",
    "        U(*q[2:4]),\n",
    "        U(*q[1:3]),\n",
    "        L(*q[0:2]),\n",
    "        R(*q[5:7]),\n",
    "        W(*q[2:5]),\n",
    "        cirq.inverse(U_)(*q[1:3]),\n",
    "        cirq.inverse(U_)(*q[2:4]),\n",
    "        cirq.inverse(U_)(*q[3:5]),\n",
    "        cirq.CNOT(q[4], q[5]),\n",
    "        cirq.H(q[4])\n",
    "        ])\n",
    "\n",
    "    sim = cirq.Simulator()\n",
    "    X =sim.simulate(circuit).final_state\n",
    "    return X \n",
    "\n",
    "def scar_obj_fun(params, A, W):\n",
    "    return np.abs(sim_overlap(params, A, W)[0])*2    \n",
    "\n",
    "\n",
    "params = np.random.randn(15)\n",
    "U = U4(params)\n",
    "A = iMPS().random(2,2).left_canonicalise()[0]\n",
    "W = Tensor(np.eye(8), \"W\")\n",
    "\n",
    "scar_obj_fun(params, A, W)\n",
    "\n",
    "\n",
    "\n"
   ]
  },
  {
   "cell_type": "code",
   "execution_count": 23,
   "metadata": {},
   "outputs": [],
   "source": [
    "from numpy.linalg import svd\n",
    "\n",
    "def S(ρ):\n",
    "    # S = Σᵢρᵢlog(ρᵢ) where ρᵢ = |λᵢ|^2 and λᵢ = singular values \n",
    "    u, s, v = svd(ρ) \n",
    "    s = np.square(np.abs(s)) \n",
    "    return np.dot(np.log2(s), s)\n",
    "    "
   ]
  },
  {
   "cell_type": "code",
   "execution_count": 1,
   "metadata": {},
   "outputs": [
    {
     "name": "stdout",
     "output_type": "stream",
     "text": [
      "Requirement already satisfied: tqdm in /homes/jdborin/anaconda3/lib/python3.7/site-packages (4.36.1)\r\n"
     ]
    }
   ],
   "source": []
  },
  {
   "cell_type": "code",
   "execution_count": 2,
   "metadata": {},
   "outputs": [
    {
     "name": "stdout",
     "output_type": "stream",
     "text": [
      "# On branch master\r\n",
      "# Changes not staged for commit:\r\n",
      "#   (use \"git add/rm <file>...\" to update what will be committed)\r\n",
      "#   (use \"git checkout -- <file>...\" to discard changes in working directory)\r\n",
      "#\r\n",
      "#\tmodified:   Many_body_scars.ipynb\r\n",
      "#\tmodified:   Time Evo.ipynb\r\n",
      "#\tdeleted:    qmps/States.py\r\n",
      "#\tmodified:   qmps/ground_state.py\r\n",
      "#\tmodified:   qmps/new_time_evolve.py\r\n",
      "#\tmodified:   qmps/qiskit_qmps.py\r\n",
      "#\tmodified:   qmps/represent.py\r\n",
      "#\tmodified:   qmps/rotosolve.py\r\n",
      "#\tmodified:   qmps/time_evolve_tools.py\r\n",
      "#\tmodified:   qmps/tools.py\r\n",
      "#\r\n",
      "# Untracked files:\r\n",
      "#   (use \"git add <file>...\" to include in what will be committed)\r\n",
      "#\r\n",
      "#\tE_op.txt\r\n",
      "#\toutput.txt\r\n",
      "#\trepresent_swap.txt\r\n",
      "#\ttime_evolve.txt\r\n",
      "no changes added to commit (use \"git add\" and/or \"git commit -a\")\r\n"
     ]
    }
   ],
   "source": [
    "!git add -A\n",
    "!git commit -m'changes in Many |Body Scars and some printed example circuits'\n",
    "!git -pu"
   ]
  },
  {
   "cell_type": "code",
   "execution_count": null,
   "metadata": {},
   "outputs": [],
   "source": []
  },
  {
   "cell_type": "code",
   "execution_count": null,
   "metadata": {},
   "outputs": [],
   "source": []
  },
  {
   "cell_type": "code",
   "execution_count": null,
   "metadata": {},
   "outputs": [],
   "source": []
  },
  {
   "cell_type": "code",
   "execution_count": null,
   "metadata": {},
   "outputs": [],
   "source": []
  },
  {
   "cell_type": "code",
   "execution_count": null,
   "metadata": {},
   "outputs": [],
   "source": []
  },
  {
   "cell_type": "code",
   "execution_count": null,
   "metadata": {},
   "outputs": [],
   "source": []
  },
  {
   "cell_type": "code",
   "execution_count": null,
   "metadata": {},
   "outputs": [],
   "source": []
  },
  {
   "cell_type": "code",
   "execution_count": null,
   "metadata": {},
   "outputs": [],
   "source": []
  },
  {
   "cell_type": "code",
   "execution_count": null,
   "metadata": {},
   "outputs": [],
   "source": []
  }
 ],
 "metadata": {
  "kernelspec": {
   "display_name": "Python 3",
   "language": "python",
   "name": "python3"
  },
  "language_info": {
   "codemirror_mode": {
    "name": "ipython",
    "version": 3
   },
   "file_extension": ".py",
   "mimetype": "text/x-python",
   "name": "python",
   "nbconvert_exporter": "python",
   "pygments_lexer": "ipython3",
   "version": "3.7.4"
  }
 },
 "nbformat": 4,
 "nbformat_minor": 4
}
