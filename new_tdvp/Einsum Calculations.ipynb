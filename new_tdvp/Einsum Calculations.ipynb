{
 "cells": [
  {
   "cell_type": "code",
   "execution_count": 68,
   "metadata": {},
   "outputs": [],
   "source": [
    "import numpy as np\n",
    "from scipy.stats import unitary_group\n",
    "from functools import reduce\n",
    "np.set_printoptions(linewidth=130)\n"
   ]
  },
  {
   "cell_type": "code",
   "execution_count": 118,
   "metadata": {},
   "outputs": [],
   "source": [
    "import numpy as np\n",
    "from scipy.stats import unitary_group\n",
    "from functools import reduce\n",
    "np.set_printoptions(linewidth=130)\n",
    "\n",
    "U1 = unitary_group.rvs(4).reshape(2,2,2,2);\n",
    "U2 = unitary_group.rvs(4).reshape(2,2,2,2);\n",
    "U3 = unitary_group.rvs(4).reshape(2,2,2,2);\n",
    "\n",
    "U1_ = U1.reshape(4,4).conj().T.reshape(2,2,2,2)\n",
    "U2_ = U2.reshape(4,4).conj().T.reshape(2,2,2,2)\n",
    "U3_ = U3.reshape(4,4).conj().T.reshape(2,2,2,2)\n",
    "\n",
    "T1 = lambda U1, U2, U3: np.einsum(\n",
    "    U1, [12,13,8,9],\n",
    "    U2, [14,15,7,12],\n",
    "    U2, [16,17,13,10],\n",
    "    U3, [0,1,6,14],\n",
    "    U3, [2,3,15,16],\n",
    "    U3, [4,5,17,11],\n",
    "    [0,1,2,3,4,5,6,7,8,9,10,11]\n",
    ")\n",
    "\n",
    "T2 = lambda U1_, U2_, U3_: np.einsum(\n",
    "    U3_, [0,12,6,7],\n",
    "    U3_, [13,14,8,9],\n",
    "    U3_, [15,5,10,11],\n",
    "    U2_, [1, 16,12,13],\n",
    "    U2_, [17,4,14,15],\n",
    "    U1_, [2,3,16,17],\n",
    "    [0,1,2,3,4,5,6,7,8,9,10,11]\n",
    ")\n",
    "\n",
    "###########################################################\n",
    "# Test that T1 and T2 are inverses of eachother\n",
    "###########################################################\n",
    "\n",
    "\n",
    "I = np.einsum(\n",
    "    T1(U1,U2,U3), [0,1,2,3,4,5,12,13,14,15,16,17],\n",
    "    T2(U1_,U2_,U3_), [12,13,14,15,16,17,6,7,8,9,10,11],\n",
    "    [0,1,2,3,4,5,6,7,8,9,10,11]\n",
    ")\n",
    "\n",
    "assert np.allclose(T1(U1,U2,U3).reshape(64,64) @ T2(U1_,U2_,U3_).reshape(64,64), np.eye(64))\n",
    "assert np.allclose(I.reshape(64,64), np.eye(64))\n",
    "############################################################\n",
    "#\n",
    "###########################################################\n",
    "T3 = lambda T1, T2: np.einsum(\n",
    "    T1, [0,1,2,3,4,5,12,13,16,17,18,19],\n",
    "    T2, [14,15,16,17,18,19,6,7,8,9,10,11],\n",
    "    [0,1,2,3,4,5,6,7,8,9,10,11,12,13,14,15]\n",
    ")\n",
    "\n",
    "T4 = lambda U1,U2,U3,U1_,U2_,U3_: np.einsum(\n",
    "    U3_, [10,12,4,5],\n",
    "    U2_, [11,13,12,6],\n",
    "    U1_, [14,15,13,7],\n",
    "    U1,  [16,3,14,15],\n",
    "    U2,  [17,2,9,16],\n",
    "    U3,  [0,1,8,17],\n",
    "    [0,1,2,3,4,5,6,7,8,9,10,11]\n",
    ")\n",
    "##################################\n",
    "# test that T4 works as expcted\n",
    "##################################\n",
    "\n",
    "\n",
    "assert np.allclose(T4(np.eye(4).reshape(2,2,2,2), U2, U3, np.eye(4).reshape(2,2,2,2), U2_, U3_)[0,0,0,0,0,0,0,0,...].reshape(4,4), T4(U1, U2, U3, U1_, U2_, U3_)[0,0,0,0,0,0,0,0,...].reshape(4,4))\n",
    "#####################################\n",
    "#\n",
    "#####################################\n",
    "\n",
    "T5 = lambda T3, T4: np.einsum(\n",
    "    T3, [2,3,4,5,6,7,10,11,12,13,14,15,21,20,23,22],\n",
    "    T4, [0,1,21,20,8,9,23,22,16,17,18,19],\n",
    "    [0,1,2,3,4,5,6,7,8,9,10,11,12,13,14,15,16,17,18,19]\n",
    ")\n",
    "\n",
    "T5R = lambda T5: np.round(T5[0,0,0,0,0,0,0,0,0,0,0,0,0,0,0,0,...].reshape(4,4),4)\n",
    "T3R = lambda T3: np.round(T3[0,0,0,0,0,0,0,0,0,0,0,0,...].reshape(4,4),4)\n",
    "\n",
    "\n",
    "U = [U1,U2,U3,U1_,U2_,U3_]\n",
    "\n",
    "t1 = T1(*U[:3])\n",
    "t2 = T2(*U[3:])\n",
    "t3 = T3(t1,t2)\n",
    "t4 = T4(*U)\n",
    "t5 = T5(t3, t4)\n",
    "t5r = T5R(t5)\n",
    "t3r = T3R(t3)\n",
    "\n",
    "assert(np.allclose(t5r, t3r))\n",
    "\n",
    "def rfp(U): #right fixed point\n",
    "    t1 = T1(*U[:3])\n",
    "    t2 = T2(*U[3:])\n",
    "    t3 = T3(t1,t2)\n",
    "    t4 = T4(*U)\n",
    "    t5 = T5(t3, t4)\n",
    "    t5r = T5R(t5)\n",
    "    t3r = T3R(t3)\n",
    "    return t5r, t3r\n",
    "\n",
    "t5r1, t3r1 = rfp(U)\n",
    "\n",
    "assert np.allclose(t5r1, t3r1)\n",
    "\n"
   ]
  },
  {
   "cell_type": "code",
   "execution_count": 113,
   "metadata": {},
   "outputs": [
    {
     "data": {
      "image/png": "[encoded data removed]",
      "text/plain": [
       "<Figure size 432x288 with 1 Axes>"
      ]
     },
     "metadata": {
      "needs_background": "light"
     },
     "output_type": "display_data"
    }
   ],
   "source": [
    "import matplotlib.pyplot as plt\n",
    "\n",
    "total = []\n",
    "for _ in range(1000):\n",
    "    U1 = unitary_group.rvs(4).reshape(2,2,2,2);\n",
    "    U2 = unitary_group.rvs(4).reshape(2,2,2,2);\n",
    "    U3 = unitary_group.rvs(4).reshape(2,2,2,2);\n",
    "\n",
    "    M1 = np.random.rand(4,4) + 1j * np.random.rand(4,4)\n",
    "    B1 = 0.5 * (M1 - M1.conj().T)*0.05\n",
    "    M2 = np.random.rand(4,4) + 1j * np.random.rand(4,4)\n",
    "    B2 = 0.5 * (M2 - M2.conj().T)*0.05\n",
    "    M3 = np.random.rand(4,4) + 1j * np.random.rand(4,4)\n",
    "    B3 = 0.5 * (M3 - M3.conj().T)*00.5\n",
    "\n",
    "    U1_ = (((np.eye(4) - B1)@U1.reshape(4,4)).conj().T).reshape(2,2,2,2)\n",
    "    U2_ = (((np.eye(4) - B2)@U2.reshape(4,4)).conj().T).reshape(2,2,2,2)\n",
    "    U3_ = (((np.eye(4) - B3)@U3.reshape(4,4)).conj().T).reshape(2,2,2,2)\n",
    "\n",
    "    U = [U1,U2,U3,U1_,U2_,U3_]\n",
    "\n",
    "    a,b = rfp(U)\n",
    "    \n",
    "    diff = a - b\n",
    "    \n",
    "    frob_norm = (np.sum(diff**2)**0.5)/16\n",
    "    total.append(frob_norm)\n",
    "    \n",
    "circle_radii = np.sort(np.abs(total))[::int(len(total)/10)]\n",
    "\n",
    "fig, ax = plt.subplots() # note we must use plt.subplots, not plt.subplot\n",
    "for z in total:\n",
    "    ax.scatter(z.real, z.imag, c = 'r', marker = 'x')\n",
    "    \n",
    "for s in circle_radii:\n",
    "    circle = plt.Circle((0, 0), s, color='b', fill = False)\n",
    "    ax.add_artist(circle)\n",
    "\n",
    "plt.xlim(-0.1,0.1)\n",
    "plt.ylim(-0.1,0.1)\n",
    "plt.show()"
   ]
  },
  {
   "cell_type": "code",
   "execution_count": 120,
   "metadata": {},
   "outputs": [
    {
     "name": "stdout",
     "output_type": "stream",
     "text": [
      "[ 1.00000000e+00+3.33131317e-17j -1.03583987e-08-6.27187659e-10j  1.05102662e-08+5.81184210e-10j  1.91497754e-10-6.31355789e-09j\n",
      " -2.39234420e-09-4.14116163e-09j  3.62247728e-10+5.44201291e-09j  2.10866639e-09+3.56103448e-09j -2.65445957e-10+1.37469546e-09j\n",
      " -1.49241077e-10+8.39431169e-11j -7.24856364e-12+3.90371368e-11j  3.12776265e-14-1.44856528e-13j -3.12693737e-14+1.44853007e-13j\n",
      "  2.02765052e-16-2.82746202e-16j -4.56384626e-17-3.16906035e-17j  2.53878637e-17+1.62748051e-18j -4.08609790e-17+1.04883396e-16j]\n"
     ]
    }
   ],
   "source": [
    "#####################\n",
    "# U' = U\n",
    "#####################\n",
    "\n",
    "U1 = unitary_group.rvs(4).reshape(2,2,2,2)\n",
    "U2 = unitary_group.rvs(4).reshape(2,2,2,2)\n",
    "U3 = unitary_group.rvs(4).reshape(2,2,2,2)\n",
    "\n",
    "U1_ = U1.reshape(4,4).conj().T.reshape(2,2,2,2)\n",
    "U2_ = U2.reshape(4,4).conj().T.reshape(2,2,2,2)\n",
    "U3_ = U3.reshape(4,4).conj().T.reshape(2,2,2,2)\n",
    "\n",
    "def eigs_of_transfer(a,b,c,a_,b_,c_):\n",
    "    transfer_matrix = T4(a,b,c,a_,b_,c_)[0,0,:,:,0,0,...].reshape(16,16)\n",
    "    return np.linalg.eig(transfer_matrix)\n",
    "\n",
    "print(eigs_of_transfer(U1,U2,U3,U1_,U2_,U3_)[0])"
   ]
  },
  {
   "cell_type": "code",
   "execution_count": 130,
   "metadata": {},
   "outputs": [
    {
     "name": "stdout",
     "output_type": "stream",
     "text": [
      "[ 0.98318148-0.06351333j -0.06753299+0.10444096j  0.06962585-0.0860046j  -0.0584612 -0.05509327j  0.06769179+0.04250967j\n",
      "  0.02249528+0.04774921j -0.04799349+0.02282962j  0.01587745-0.03668945j  0.03347344+0.00459803j -0.02953931+0.00038609j\n",
      "  0.00348171+0.01661439j -0.00259963-0.0160996j   0.00120522-0.00783732j -0.00390796-0.00603288j  0.00593276+0.00356676j\n",
      " -0.0042621 +0.00534011j]\n"
     ]
    }
   ],
   "source": [
    "### matrices close to original matrices\n",
    "from scipy.linalg import expm\n",
    "\n",
    "U1 = unitary_group.rvs(4).reshape(2,2,2,2)\n",
    "U2 = unitary_group.rvs(4).reshape(2,2,2,2)\n",
    "U3 = unitary_group.rvs(4).reshape(2,2,2,2)\n",
    "\n",
    "M1 = np.random.rand(4,4) + 1j * np.random.rand(4,4)\n",
    "B1 = 0.5 * (M1 - M1.conj().T)\n",
    "M2 = np.random.rand(4,4) + 1j * np.random.rand(4,4)\n",
    "B2 = 0.5 * (M2 - M2.conj().T)\n",
    "M3 = np.random.rand(4,4) + 1j * np.random.rand(4,4)\n",
    "B3 = 0.5 * (M3 - M3.conj().T)\n",
    "\n",
    "U1_ = ((expm(0.1 * B1)@ U1.reshape(4,4)).conj().T).reshape(2,2,2,2)\n",
    "U2_ = ((expm(0.1 * B2)@ U2.reshape(4,4)).conj().T).reshape(2,2,2,2)\n",
    "U3_ = ((expm(0.1 * B3)@ U3.reshape(4,4)).conj().T).reshape(2,2,2,2)\n",
    "\n",
    "val,vec = eigs_of_transfer(U1,U2,U3,U1_,U2_,U3_)\n",
    "print(val)"
   ]
  },
  {
   "cell_type": "code",
   "execution_count": 123,
   "metadata": {},
   "outputs": [
    {
     "name": "stdout",
     "output_type": "stream",
     "text": [
      "[-0.56352328-0.17964228j  0.23819557-0.47328633j  0.10861819+0.36235868j -0.1581886 -0.34842278j  0.27486982+0.02529948j\n",
      " -0.24802896+0.14058274j  0.20507394+0.05298744j  0.13329243-0.14857739j -0.08079582-0.18782934j -0.1537988 +0.09378332j\n",
      "  0.09380176-0.0256466j  -0.02142699+0.108941j    0.02250941+0.07921295j -0.03324825-0.12777783j -0.13658345-0.04937398j\n",
      " -0.05714642-0.03909126j]\n"
     ]
    }
   ],
   "source": [
    "### random matrices\n",
    "\n",
    "from scipy.linalg import expm\n",
    "U1 = unitary_group.rvs(4).reshape(2,2,2,2)\n",
    "U2 = unitary_group.rvs(4).reshape(2,2,2,2)\n",
    "U3 = unitary_group.rvs(4).reshape(2,2,2,2)\n",
    "\n",
    "U1_ = unitary_group.rvs(4).reshape(2,2,2,2)\n",
    "U2_ = unitary_group.rvs(4).reshape(2,2,2,2)\n",
    "U3_ = unitary_group.rvs(4).reshape(2,2,2,2)\n",
    "\n",
    "val,vec = eigs_of_transfer(U1,U2,U3,U1_,U2_,U3_)\n",
    "print(val)"
   ]
  },
  {
   "cell_type": "code",
   "execution_count": null,
   "metadata": {},
   "outputs": [],
   "source": []
  }
 ],
 "metadata": {
  "kernelspec": {
   "display_name": "Python 3",
   "language": "python",
   "name": "python3"
  },
  "language_info": {
   "codemirror_mode": {
    "name": "ipython",
    "version": 3
   },
   "file_extension": ".py",
   "mimetype": "text/x-python",
   "name": "python",
   "nbconvert_exporter": "python",
   "pygments_lexer": "ipython3",
   "version": "3.7.6"
  }
 },
 "nbformat": 4,
 "nbformat_minor": 4
}
