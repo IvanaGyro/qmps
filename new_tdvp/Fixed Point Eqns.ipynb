{
 "cells": [
  {
   "cell_type": "markdown",
   "metadata": {},
   "source": [
    "## Checking the Fixed Point Equations of the new TDVP method"
   ]
  },
  {
   "cell_type": "code",
   "execution_count": 8,
   "metadata": {},
   "outputs": [],
   "source": [
    "import numpy as np\n",
    "from scipy.stats import unitary_group\n",
    "np.set_printoptions(linewidth=120)\n",
    "\n",
    "I = np.array([\n",
    "    [1,0],\n",
    "    [0,1]\n",
    "])\n",
    "I4 = np.kron(I,I)"
   ]
  },
  {
   "cell_type": "markdown",
   "metadata": {},
   "source": [
    "Key Function:\n",
    "\n",
    "`np.kron`\n",
    "\n",
    "`unitary_group.rvs()`"
   ]
  },
  {
   "cell_type": "markdown",
   "metadata": {},
   "source": [
    "### Random Unitary Matrix Investigation"
   ]
  },
  {
   "cell_type": "code",
   "execution_count": 2,
   "metadata": {},
   "outputs": [
    {
     "name": "stdout",
     "output_type": "stream",
     "text": [
      "[[ 1.01+0.03j -0.01-0.03j  0.01-0.03j  0.02-0.01j]\n",
      " [-0.01+0.05j  1.1 -0.01j -0.09+0.04j -0.01+0.02j]\n",
      " [ 0.02-0.j    0.02-0.02j  1.1 +0.j   -0.01-0.05j]\n",
      " [-0.09+0.01j -0.03+0.03j  0.04+0.02j  1.01+0.06j]]\n"
     ]
    },
    {
     "data": {
      "text/plain": [
       "<matplotlib.colorbar.Colorbar at 0x7f943cb96790>"
      ]
     },
     "execution_count": 2,
     "metadata": {},
     "output_type": "execute_result"
    },
    {
     "data": {
      "image/png": "[encoded data removed]",
      "text/plain": [
       "<Figure size 432x288 with 2 Axes>"
      ]
     },
     "metadata": {
      "needs_background": "light"
     },
     "output_type": "display_data"
    }
   ],
   "source": [
    "\n",
    "def A(U1, U2, U3):\n",
    "    \n",
    "    M =  np.kron (U1, np.kron(I, I)) @ np.kron(I , np.kron(U2, I)) @ np.kron(I, np.kron(I,U3))\n",
    "    return M\n",
    "\n",
    "\n",
    "def A_(U1, U2, U3):\n",
    "    M = np.kron(I, np.kron(I,U3)) @ np.kron(I , np.kron(U2, I)) @ np.kron (U1, np.kron(I, I))\n",
    "    return M\n",
    "\n",
    "M_av = np.empty([4,4],dtype = np.complex128)\n",
    "for i in range(10000):\n",
    "    U1 = unitary_group.rvs(4)\n",
    "    U2 = unitary_group.rvs(4)\n",
    "    U3 = unitary_group.rvs(4)\n",
    "\n",
    "    dt = 0.1\n",
    "\n",
    "    dU1 = unitary_group.rvs(4) * dt\n",
    "    dU2 = unitary_group.rvs(4) * dt \n",
    "    dU3 = unitary_group.rvs(4) * dt\n",
    "\n",
    "    U1_ = U1 + dU1\n",
    "    U2_ = U2 + dU2\n",
    "    U3_ = U3 + dU3\n",
    "\n",
    "    M_Full = A(U1, U2, U3) @ A_(U1_.conj().T, U2_.conj().T, U3_.conj().T)\n",
    "    M_Red = M_Full.reshape([4,4,4,4])[:,0,:,0]\n",
    "    \n",
    "    M_av += M_Red\n",
    "    \n",
    "M_av = M_av / 10000\n",
    "\n",
    "print(np.round(M_Red,2))\n",
    "\n",
    "import matplotlib.pyplot as plt\n",
    "\n",
    "plt.imshow(M_av.real)\n",
    "plt.colorbar()"
   ]
  },
  {
   "cell_type": "markdown",
   "metadata": {},
   "source": [
    "#### Ensure Anti Hermitian-ness"
   ]
  },
  {
   "cell_type": "markdown",
   "metadata": {},
   "source": [
    "1. Construct a random matrix $M$\n",
    "2. Construct an anti-Hermitian matrix $B = \\frac{1}{2}(M - M^{H})$\n",
    "3. B Satisfies the equation $ B = U dU^{\\dagger} $ for some matrix $dU$ \n",
    "4. Solve for $dU$: $dU^{\\dagger} = U^{\\dagger}B$\n",
    "5. Construct $U^{\\prime} = U + B^{\\dagger}U\\\\$\n",
    "     $ = (I + B^{\\dagger}) U $\n",
    "     $ = (I - B) U$\n"
   ]
  },
  {
   "cell_type": "code",
   "execution_count": 9,
   "metadata": {},
   "outputs": [],
   "source": [
    "dt = 0.1\n",
    "\n",
    "M_av_ah  = np.empty([4,4], dtype = np.complex128) # _ah = antihermitian\n",
    "for _ in range(100):\n",
    "    M1 = np.random.rand(4,4) + 1j * np.random.rand(4,4)\n",
    "    B1 = 0.5 * (M1 - M1.conj().T)*0.1\n",
    "    M2 = np.random.rand(4,4) + 1j * np.random.rand(4,4)\n",
    "    B2 = 0.5 * (M2 - M2.conj().T)*0.1\n",
    "    M3 = np.random.rand(4,4) + 1j * np.random.rand(4,4)\n",
    "    B3 = 0.5 * (M3 - M3.conj().T)*0.1\n",
    "\n",
    "    U1 = unitary_group.rvs(4)\n",
    "    U2 = unitary_group.rvs(4)\n",
    "    U3 = unitary_group.rvs(4)\n",
    "\n",
    "    U1_ = (I4 - B1)@U1\n",
    "    U2_ = (I4 - B2)@U2\n",
    "    U3_ = (I4 - B3)@U3\n",
    "\n",
    "    M_Full = A(U1, U2, U3) @ A_(U1_.conj().T, U2_.conj().T, U3_.conj().T)\n",
    "    M_Red = M_Full.reshape([4,4,4,4])[:,0,:,0]\n",
    "    \n",
    "    M_av_ah += M_Red\n",
    "    \n",
    "M_av_ah /= 100"
   ]
  },
  {
   "cell_type": "code",
   "execution_count": 12,
   "metadata": {},
   "outputs": [
    {
     "name": "stdout",
     "output_type": "stream",
     "text": [
      "[[ 0.99+0.16j  0.  +0.06j -0.02+0.01j -0.06+0.05j]\n",
      " [-0.02+0.06j  0.99+0.19j -0.  -0.03j  0.03+0.07j]\n",
      " [ 0.02+0.02j  0.01-0.02j  0.99+0.19j -0.  +0.02j]\n",
      " [ 0.04+0.06j -0.04+0.06j  0.  +0.02j  0.99+0.21j]]\n"
     ]
    }
   ],
   "source": [
    "print(np.round(M_Red, 2))"
   ]
  },
  {
   "cell_type": "code",
   "execution_count": 4,
   "metadata": {},
   "outputs": [
    {
     "data": {
      "text/plain": [
       "<matplotlib.colorbar.Colorbar at 0x7f943ca8de10>"
      ]
     },
     "execution_count": 4,
     "metadata": {},
     "output_type": "execute_result"
    },
    {
     "data": {
      "image/png": "[encoded data removed]",
      "text/plain": [
       "<Figure size 432x288 with 2 Axes>"
      ]
     },
     "metadata": {
      "needs_background": "light"
     },
     "output_type": "display_data"
    }
   ],
   "source": [
    "plt.imshow(M_av_ah.real)\n",
    "plt.colorbar()"
   ]
  },
  {
   "cell_type": "code",
   "execution_count": 5,
   "metadata": {},
   "outputs": [
    {
     "data": {
      "text/plain": [
       "<matplotlib.colorbar.Colorbar at 0x7f943c9c7e10>"
      ]
     },
     "execution_count": 5,
     "metadata": {},
     "output_type": "execute_result"
    },
    {
     "data": {
      "image/png": "[encoded data removed]",
      "text/plain": [
       "<Figure size 432x288 with 2 Axes>"
      ]
     },
     "metadata": {
      "needs_background": "light"
     },
     "output_type": "display_data"
    }
   ],
   "source": [
    "plt.imshow(M_av_ah.imag)\n",
    "plt.colorbar()"
   ]
  },
  {
   "cell_type": "code",
   "execution_count": 6,
   "metadata": {},
   "outputs": [
    {
     "data": {
      "text/plain": [
       "array([[ 1.   +0.j   , -0.001+0.001j, -0.   -0.001j,  0.001+0.j   ],\n",
       "       [-0.   -0.j   ,  0.999+0.001j,  0.   +0.j   ,  0.   +0.j   ],\n",
       "       [ 0.   +0.001j, -0.   +0.j   ,  0.999+0.002j, -0.   +0.001j],\n",
       "       [-0.   -0.j   , -0.   +0.001j,  0.   +0.j   ,  1.   +0.001j]])"
      ]
     },
     "execution_count": 6,
     "metadata": {},
     "output_type": "execute_result"
    }
   ],
   "source": [
    "# show that on M_av is very close to a constant phase multiplied by the identity matrix\n",
    "\n",
    "np.round(1/M_av[0,0] * M_av, 3)"
   ]
  },
  {
   "cell_type": "code",
   "execution_count": 7,
   "metadata": {},
   "outputs": [
    {
     "data": {
      "text/plain": [
       "<matplotlib.colorbar.Colorbar at 0x7f943c90cc90>"
      ]
     },
     "execution_count": 7,
     "metadata": {},
     "output_type": "execute_result"
    },
    {
     "data": {
      "image/png": "[encoded data removed]",
      "text/plain": [
       "<Figure size 432x288 with 2 Axes>"
      ]
     },
     "metadata": {
      "needs_background": "light"
     },
     "output_type": "display_data"
    }
   ],
   "source": [
    "B_av = np.empty([4,4],dtype = np.complex128)\n",
    "for _ in range(1000):\n",
    "    M = np.random.rand(4,4) + 1j * np.random.rand(4,4)\n",
    "    B = 0.5 * (M - M.conj().T)*0.1\n",
    "    B_av += B\n",
    "    \n",
    "B_av /= 1000\n",
    "plt.imshow(B_av.imag)\n",
    "plt.colorbar()\n"
   ]
  },
  {
   "cell_type": "markdown",
   "metadata": {},
   "source": [
    "Numerically the result seems to be that to 1st order the result is the Identity matrix. The O(dt) it is a phase change on the qubits and then to O(dt^2) there are other effects. Either way very promising for these results. "
   ]
  },
  {
   "cell_type": "code",
   "execution_count": null,
   "metadata": {},
   "outputs": [],
   "source": []
  },
  {
   "cell_type": "code",
   "execution_count": null,
   "metadata": {},
   "outputs": [],
   "source": []
  },
  {
   "cell_type": "code",
   "execution_count": null,
   "metadata": {},
   "outputs": [],
   "source": []
  },
  {
   "cell_type": "code",
   "execution_count": null,
   "metadata": {},
   "outputs": [],
   "source": []
  }
 ],
 "metadata": {
  "kernelspec": {
   "display_name": "Python 3",
   "language": "python",
   "name": "python3"
  },
  "language_info": {
   "codemirror_mode": {
    "name": "ipython",
    "version": 3
   },
   "file_extension": ".py",
   "mimetype": "text/x-python",
   "name": "python",
   "nbconvert_exporter": "python",
   "pygments_lexer": "ipython3",
   "version": "3.7.6"
  }
 },
 "nbformat": 4,
 "nbformat_minor": 4
}
