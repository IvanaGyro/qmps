{
 "cells": [
  {
   "cell_type": "code",
   "execution_count": 3,
   "metadata": {},
   "outputs": [],
   "source": [
    "import numpy as np\n",
    "import cirq\n",
    "X = np.array([[0, 1], [1, 0]])\n",
    "Y = np.array([[0, -1j], [1j, 0]])\n",
    "Z = np.array([[1, 0], [0, -1]])\n",
    "I = np.array([[1, 0], [0, 1]])"
   ]
  },
  {
   "cell_type": "markdown",
   "metadata": {},
   "source": [
    "### Optimization"
   ]
  },
  {
   "cell_type": "markdown",
   "metadata": {},
   "source": [
    " - Finding the ground state of the Transverse Field Ising Hamiltonian "
   ]
  },
  {
   "cell_type": "code",
   "execution_count": 2,
   "metadata": {},
   "outputs": [],
   "source": [
    "class K(cirq.Gate):\n",
    "    def __init__(self, theta):\n",
    "        self.theta = theta\n",
    "\n",
    "    def num_qubits(self):\n",
    "        return 2\n",
    "\n",
    "    def _decompose_(self, qubits):\n",
    "        return [\n",
    "            cirq.rz(-pi/4)(qubits[0]),\n",
    "            cirq.rz(pi/4)(qubits[1]),\n",
    "            sqrtiSWAP.on(*qubits),\n",
    "            cirq.rz(self.theta)(qubits[0]),\n",
    "            cirq.rz(-self.theta)(qubits[1]),\n",
    "            sqrtiSWAPinv.on(*qubits),\n",
    "            cirq.rz(pi/4)(qubits[0]),\n",
    "            cirq.rz(-pi/4)(qubits[1])\n",
    "        ]\n",
    "\n",
    "class expYY(cirq.Gate):\n",
    "    def __init__(self, gamma):\n",
    "        self.gamma = gamma\n",
    "\n",
    "    def num_qubits(self):\n",
    "        return 2\n",
    "\n",
    "    def _decompose_(self, qubits):\n",
    "        return [\n",
    "            K(self.gamma).on(*qubits),\n",
    "            cirq.X.on(qubits[1]),\n",
    "            K(-self.gamma).on(*qubits),\n",
    "            cirq.X.on(qubits[1])\n",
    "        ]\n",
    "\n",
    "    \n",
    "class V(cirq.Gate):\n",
    "    def __init__(self, params):\n",
    "        self.params = params\n",
    "        self.n_params = len(params)\n",
    "        self.n_qubits = 2\n",
    "    def num_qubits(self):\n",
    "        return self.n_qubits\n",
    "    def _decompose_(self, qubits):\n",
    "        "
   ]
  },
  {
   "cell_type": "markdown",
   "metadata": {},
   "source": [
    "### Time evolution "
   ]
  },
  {
   "cell_type": "markdown",
   "metadata": {},
   "source": [
    " - Determining Loschmidt Echoes"
   ]
  },
  {
   "cell_type": "code",
   "execution_count": null,
   "metadata": {},
   "outputs": [],
   "source": []
  }
 ],
 "metadata": {
  "kernelspec": {
   "display_name": "Python 3",
   "language": "python",
   "name": "python3"
  },
  "language_info": {
   "codemirror_mode": {
    "name": "ipython",
    "version": 3
   },
   "file_extension": ".py",
   "mimetype": "text/x-python",
   "name": "python",
   "nbconvert_exporter": "python",
   "pygments_lexer": "ipython3",
   "version": "3.7.6"
  },
  "toc": {
   "base_numbering": 1,
   "nav_menu": {},
   "number_sections": true,
   "sideBar": true,
   "skip_h1_title": false,
   "title_cell": "Table of Contents",
   "title_sidebar": "Contents",
   "toc_cell": false,
   "toc_position": {},
   "toc_section_display": true,
   "toc_window_display": false
  }
 },
 "nbformat": 4,
 "nbformat_minor": 4
}
