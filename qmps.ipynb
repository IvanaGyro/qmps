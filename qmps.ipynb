{
 "cells": [
  {
   "cell_type": "code",
   "execution_count": 60,
   "metadata": {},
   "outputs": [
    {
     "name": "stdout",
     "output_type": "stream",
     "text": [
      "hello2\n",
      "The autoreload extension is already loaded. To reload it, use:\n",
      "  %reload_ext autoreload\n"
     ]
    }
   ],
   "source": [
    "%load_ext autoreload\n",
    "%autoreload 2\n",
    "%matplotlib inline\n",
    "import cirq as cirq\n",
    "import numpy as np\n",
    "import matplotlib.pyplot as plt\n",
    "from xmps.iMPS import iMPS\n",
    "import unitary_iMPS as qMPS"
   ]
  },
  {
   "cell_type": "markdown",
   "metadata": {},
   "source": [
    "# qmps\n",
    "This notebook walks through how we represent, optimise, and time evolve uniform matrix product states on a NISQ quantum computer. It depends on xmps, a matrix product state library available at https://github.com/fergusbarratt/xmps, and Cirq, google's quantum programming language"
   ]
  },
  {
   "cell_type": "markdown",
   "metadata": {},
   "source": [
    "# Intro to uniform Matrix Product States"
   ]
  },
  {
   "cell_type": "markdown",
   "metadata": {},
   "source": [
    "An uniform matrix product state in right canonical form can be represented by a single repeated tensor"
   ]
  },
  {
   "cell_type": "code",
   "execution_count": 2,
   "metadata": {},
   "outputs": [],
   "source": [
    "\"\"\"\n",
    "...--A--A--A--A--A--A--...\n",
    "  |  |  |  |  |  |\n",
    "\"\"\";"
   ]
  },
  {
   "cell_type": "markdown",
   "metadata": {},
   "source": [
    "Since we can put the above into left canonical form by a gauge transformation, the expectation value of any local observable can be expressed as follows"
   ]
  },
  {
   "cell_type": "code",
   "execution_count": 3,
   "metadata": {},
   "outputs": [],
   "source": [
    "\"\"\"\n",
    "         --A--...--A--\n",
    "        |  |       |  |\n",
    "<O>   = |  ----O----  r\n",
    "        |  |       |  |\n",
    "         --A--...--A--\n",
    "\n",
    "\"\"\";"
   ]
  },
  {
   "cell_type": "markdown",
   "metadata": {},
   "source": [
    "Where r is the largest right eigenvector of the transfer matrix"
   ]
  },
  {
   "cell_type": "code",
   "execution_count": 4,
   "metadata": {},
   "outputs": [],
   "source": [
    "\"\"\"\n",
    "--A--    ---\n",
    "  |  |      |\n",
    "  |  r =    r\n",
    "  |  |      |\n",
    "--A--    ---\n",
    "\n",
    "\"\"\";"
   ]
  },
  {
   "cell_type": "markdown",
   "metadata": {},
   "source": [
    "## Representation"
   ]
  },
  {
   "cell_type": "markdown",
   "metadata": {},
   "source": [
    "In order to represent a uniform matrix product state of some bond dimension, two objects are sufficient\n",
    "\n",
    " - The state tensor A\n",
    " - The right eigenmatrix r\n",
    " \n",
    "The main idea of this paper is that these can be represented or determined efficiently on a quantum computer, and the resulting quantum state, representing the state of a infinite, TI quantum system, can be optimized and manipulated in an efficient manner."
   ]
  },
  {
   "cell_type": "markdown",
   "metadata": {},
   "source": [
    "### State Tensor"
   ]
  },
  {
   "cell_type": "markdown",
   "metadata": {},
   "source": [
    "The A tensor of a matrix product state of bond dimension D can be represented on $\\log_2(D)+1$ qubits as follows"
   ]
  },
  {
   "cell_type": "code",
   "execution_count": 5,
   "metadata": {},
   "outputs": [],
   "source": [
    "\"\"\"       \n",
    "            |0>|0>...|0>|0>\n",
    "               \\    j     /\n",
    "i--A--j  =   |  |   ...  |\n",
    "   |         -------------\n",
    "   σ               U\n",
    "             -------------\n",
    "             |   ...  |  | \n",
    "            /    i     \\/σ\\\n",
    "              \\log_2(D)  +1\n",
    "\"\"\";"
   ]
  },
  {
   "cell_type": "markdown",
   "metadata": {},
   "source": [
    "Where we assume that the state unitary $U$ can be efficiently represented on a quantum computer. In the following we denote the depth of $U$ as $p(D)$, where $p$ is subpolynomial, generally we assume constant depth.\n",
    "\n",
    "In code this is represented by the\n",
    "`\n",
    "StateTensor\n",
    "`\n",
    "object."
   ]
  },
  {
   "cell_type": "code",
   "execution_count": 104,
   "metadata": {},
   "outputs": [
    {
     "name": "stdout",
     "output_type": "stream",
     "text": [
      "0 1 2\n",
      "│ │ │\n",
      "I V V\n",
      "|─|─|\n",
      "U U I\n",
      "│ │ │\n"
     ]
    }
   ],
   "source": [
    "A = iMPS().load('./fixtures/A.npy').left_canonicalise()\n",
    "A, r = A[0], A.L\n",
    "V = qMPS.Environment2(qMPS.environment_to_unitary(r))\n",
    "U = qMPS.StateTensor2(qMPS.left_orthogonal_tensor_to_unitary(A))\n",
    "S = qMPS.State(U, V)\n",
    "c = cirq.Circuit().from_ops(S(*cirq.LineQubit.range(3)))\n",
    "print(c.to_text_diagram(transpose=True))"
   ]
  },
  {
   "cell_type": "markdown",
   "metadata": {},
   "source": [
    "### How to get the environment for a given state tensor"
   ]
  },
  {
   "cell_type": "markdown",
   "metadata": {},
   "source": [
    "#### Environment"
   ]
  },
  {
   "cell_type": "markdown",
   "metadata": {},
   "source": [
    "The environment tensor is embedded in a unitary $V$ as follows"
   ]
  },
  {
   "cell_type": "code",
   "execution_count": 10,
   "metadata": {},
   "outputs": [],
   "source": [
    "\"\"\"\n",
    "            |0>|0>...|0>|0>\n",
    "i--C--j  =   |  | ... |  |\n",
    "             -------------\n",
    "                   v\n",
    "             -------------\n",
    "             |  | ... |  | \n",
    "            /  i   \\/  j  \\\n",
    "           \\log_2(D)\\log_2(D)\n",
    "        \n",
    "\n",
    "r = C@C.conj().T\n",
    "\"\"\";"
   ]
  },
  {
   "cell_type": "markdown",
   "metadata": {},
   "source": [
    "Where we assume that the environment unitary $V$ can be efficiently represented on a quantum computer. In the following we denote the depth of V as $q(D)$, where $q$ is subpolynomial, generally we assume constant depth.\n",
    "\n",
    "In code this is represented by the\n",
    "`\n",
    "Environment\n",
    "`\n",
    "class."
   ]
  },
  {
   "cell_type": "markdown",
   "metadata": {},
   "source": [
    "#### Algorithm"
   ]
  },
  {
   "cell_type": "markdown",
   "metadata": {},
   "source": [
    "Given a StateTensor $U$ (corresponding to $A$), can we efficiently determine the Environment $V$ (corresponding to $r$) on the circuit?"
   ]
  },
  {
   "cell_type": "markdown",
   "metadata": {},
   "source": [
    "The condition that $VV^\\dagger$ is the right environment of U is that $\\rho = \\sigma$ on the following circuit."
   ]
  },
  {
   "cell_type": "code",
   "execution_count": 9,
   "metadata": {},
   "outputs": [],
   "source": [
    "\"\"\" 0 0 0 0 0 0 \n",
    "    | | | | | | \n",
    "    | --- | | |       \n",
    "    |  v  | | |  \n",
    "    | --- | | |  \n",
    "    | | | | | |  \n",
    "    --- | --- |  \n",
    "     u  |  v  |  \n",
    "    --- | --- |  \n",
    "    | | | | | |             \n",
    "    ρ | | σ | |  \n",
    "\n",
    "\"\"\";"
   ]
  },
  {
   "cell_type": "markdown",
   "metadata": {},
   "source": [
    "### Tomography"
   ]
  },
  {
   "cell_type": "markdown",
   "metadata": {},
   "source": [
    "As a first approximation, one can perform state tomography on the $\\rho$ and $\\sigma$ qubits. This method requires $\\sim \\mathcal{O}(p(D)3^{\\log_2(D)})\\sim \\mathcal{O}(p(D)D^3)$ operations, but only $3\\log_2(D)+1$ qubits. $\\mathcal{O}(D^3)$ is the scaling of classical matrix multiplication therefore the scaling of classical DMRG. Can we do better?"
   ]
  },
  {
   "cell_type": "markdown",
   "metadata": {},
   "source": [
    "### Power Method"
   ]
  },
  {
   "cell_type": "markdown",
   "metadata": {},
   "source": [
    "Instead of representing the environment compactly, one can represent it as the contraction of $K$ StateTensors, i.e. since it is the largest eigenvector of a matrix, one can use the power method. This is equivalent to approximating the state of the infinite chain by the state of a length $K+1$ uniform chain."
   ]
  },
  {
   "cell_type": "code",
   "execution_count": null,
   "metadata": {},
   "outputs": [],
   "source": [
    "\"\"\"\n",
    "            |0>|0>...|0>|0>        0 0 0 ... 0     0 0 \n",
    "i--r--j  =   |  | ... |  |     =   | | | ... |     | |\n",
    "             -------------         | | | ... ---------\n",
    "                   v               | | | ...     U     \n",
    "             -------------         | | | ... --------- \n",
    "             |  | ... |  |         | | | ... | ... | | \n",
    "            /      \\/     \\        | | | .........   K\n",
    "           \\log_2(D)\\log_2(D)      | | | .........\n",
    "                                   | | | ... |\n",
    "                                   | ---------\n",
    "                                   |     U            \n",
    "                                   | ---------         \n",
    "                                   | | ... | | \n",
    "                                   | | ... | 2\n",
    "                                   ---------\n",
    "                                       U            \n",
    "                                   ---------           \n",
    "                                   | ... | | \n",
    "                                           1\n",
    "\n",
    "\n",
    "\"\"\";"
   ]
  },
  {
   "cell_type": "markdown",
   "metadata": {},
   "source": [
    " - The power method has an error scaling $\\epsilon \\sim |\\frac{\\lambda_1}{\\lambda_2}|^K$. where $\\lambda_i$ is the $i$th largest eigenvalue of the matrix.\n",
    " - This method requires $\\mathcal{O}(\\log_2(D/\\epsilon))$ qubits, and requires $p(D)\\log(1/\\epsilon)$ operations.\n",
    " - We can do better than polynomial in $D$! Can we improve the qubit and depth scaling?"
   ]
  },
  {
   "cell_type": "markdown",
   "metadata": {},
   "source": [
    "### Swap Test"
   ]
  },
  {
   "cell_type": "markdown",
   "metadata": {},
   "source": [
    "The swap test estimates the overlap $\\mathrm{tr}(\\rho \\sigma)$ between the two states $\\rho$ and $\\sigma$. Naive implementations require deep circuits, but it can be done in constant depth. "
   ]
  },
  {
   "cell_type": "markdown",
   "metadata": {},
   "source": [
    "#### Horizontal "
   ]
  },
  {
   "cell_type": "markdown",
   "metadata": {},
   "source": [
    "#### Vertical"
   ]
  },
  {
   "cell_type": "markdown",
   "metadata": {},
   "source": [
    "### State"
   ]
  },
  {
   "cell_type": "markdown",
   "metadata": {},
   "source": [
    "All q-local observables of the infinite TI system can be obtained by measurements of corresponding pauli string on the following combination of $U$ and $V$ on the qubits marked $1 \\ldots N$"
   ]
  },
  {
   "cell_type": "code",
   "execution_count": 11,
   "metadata": {},
   "outputs": [],
   "source": [
    "\"\"\"\n",
    "         --A--...--A--\n",
    "        |  |       |  |\n",
    "<O>   = |  ----O----  r\n",
    "        |  |       |  |\n",
    "         --A--...--A--\n",
    "\n",
    "      =\n",
    "        |0>......................|0>\n",
    "         | | | ... | | ... || ... |\n",
    "         | | | ... | ---------------\n",
    "         | | | ... |        V         \n",
    "         | | | ... | ---------------           \n",
    "         | | | ... | | ... || ... |\n",
    "         | | | ... | | ... |\n",
    "         | | | ... ---------\n",
    "         | | | ...     U            \n",
    "         | | | ... ---------            \n",
    "         | | | ... | ... | | \n",
    "         | | | .........   N\n",
    "         | | | .........\n",
    "         | | | ... |\n",
    "         | ---------\n",
    "         |     U            \n",
    "         | ---------            \n",
    "         | | ... | | \n",
    "         | | ... | 2\n",
    "         ---------\n",
    "             U            \n",
    "         ---------            \n",
    "         | ... | | \n",
    "                 1\n",
    "            \n",
    "\"\"\";"
   ]
  },
  {
   "cell_type": "markdown",
   "metadata": {},
   "source": [
    "and require the creation of a circuit on $(N+1)\\log_2(D)$ qubits.\n",
    "\n",
    "In code the `State` class is the combination of a `StateTensor` and `Environment` object, and takes as an argument $N$."
   ]
  },
  {
   "cell_type": "markdown",
   "metadata": {},
   "source": [
    "## Optimization"
   ]
  },
  {
   "cell_type": "markdown",
   "metadata": {
    "collapsed": true
   },
   "source": [
    "Classically the state of the art for finding ground states of 1D spin chains is the DMRG algorithm. DMRG is a variational update over matrix product states. Here we outline how to perform the same task on a quantum computer"
   ]
  },
  {
   "cell_type": "code",
   "execution_count": null,
   "metadata": {
    "collapsed": true
   },
   "outputs": [],
   "source": []
  }
 ],
 "metadata": {
  "kernelspec": {
   "display_name": "Python 3",
   "language": "python",
   "name": "python3"
  },
  "language_info": {
   "codemirror_mode": {
    "name": "ipython",
    "version": 3
   },
   "file_extension": ".py",
   "mimetype": "text/x-python",
   "name": "python",
   "nbconvert_exporter": "python",
   "pygments_lexer": "ipython3",
   "version": "3.7.2"
  }
 },
 "nbformat": 4,
 "nbformat_minor": 2
}
